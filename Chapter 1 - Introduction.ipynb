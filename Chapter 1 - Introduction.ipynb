{
 "cells": [
  {
   "cell_type": "markdown",
   "id": "desirable-expense",
   "metadata": {},
   "source": [
    "# Introduction\n",
    "\n",
    "Congratulations! You have just been hired to lead the data science efforts at DataSciencester, the social network for data scientist.\n",
    "\n",
    "It's your first day on the job at DataSciencester, and the VP of Networking is full of questions about your users.\n",
    "To this end, he gives you a dump of the entire DataSciencester network.\n",
    "This consists of a list of users, each represented by a `dict` that contains that user's `id` and name."
   ]
  },
  {
   "cell_type": "code",
   "execution_count": 1,
   "id": "agricultural-commissioner",
   "metadata": {},
   "outputs": [],
   "source": [
    "users = [\n",
    "    {\"id\": 0, \"name\": \"Hero\"},\n",
    "    {\"id\": 1 , \"name\":\"Dunn\"},\n",
    "    {\"id\": 2, \"name\":\"Sue\"},\n",
    "    {\"id\": 3, \"name\":\"Chi\"},\n",
    "    {\"id\": 4, \"name\":\"Thor\"},\n",
    "    {\"id\": 5, \"name\":\"Clive\"},\n",
    "    {\"id\": 6, \"name\":\"Hicks\"},\n",
    "    {\"id\": 7, \"name\":\"Devin\"},\n",
    "    {\"id\": 8, \"name\":\"Kate\"},\n",
    "    {\"id\": 9, \"name\":\"Klein\"},\n",
    "]"
   ]
  },
  {
   "cell_type": "markdown",
   "id": "foster-investigation",
   "metadata": {},
   "source": [
    "He also gives you the \"friendship\" data, represented as a list of pairs of IDs."
   ]
  },
  {
   "cell_type": "code",
   "execution_count": 2,
   "id": "possible-moore",
   "metadata": {},
   "outputs": [],
   "source": [
    "friendship_pairs = [(0, 1),(0, 2),(1, 2),(1, 3),(2, 3),(3, 4),\n",
    "                    (4, 5),(5, 6),(5, 7),(6, 8),(7, 8),(8, 9),]"
   ]
  },
  {
   "cell_type": "markdown",
   "id": "minor-trinidad",
   "metadata": {},
   "source": [
    "For example, the tuple (0, 1) indicates that the data scientist with `id` 0 (Hero) and the data scientist with `id` 1 (Dunn) are friends."
   ]
  },
  {
   "cell_type": "markdown",
   "id": "moving-monitoring",
   "metadata": {},
   "source": [
    "Having friendships represented as a list of pairs is not the easiest way to work with them.\n",
    "To find all the friendships for user 1, you would have to iterate over every pair looking for pairs containing 1. If you had lots of pairs, this would take a very long time.\n",
    "\n",
    "Instead , we will create a `dict` where the keys are user `id`s and the values are lists of friend `id`s.\n",
    "(Looking up things in a `dict` is very fast.)"
   ]
  },
  {
   "cell_type": "markdown",
   "id": "harmful-header",
   "metadata": {},
   "source": [
    "We'll still have to look up every pair to create the `dict`, but we only have to do that once."
   ]
  },
  {
   "cell_type": "code",
   "execution_count": 3,
   "id": "australian-requirement",
   "metadata": {},
   "outputs": [],
   "source": [
    "# Initialise the dict with an empty list for each user id:\n",
    "friendships = {user['id']: [] for user in users}\n"
   ]
  },
  {
   "cell_type": "code",
   "execution_count": 4,
   "id": "contemporary-complement",
   "metadata": {},
   "outputs": [
    {
     "data": {
      "text/plain": [
       "{0: [], 1: [], 2: [], 3: [], 4: [], 5: [], 6: [], 7: [], 8: [], 9: []}"
      ]
     },
     "execution_count": 4,
     "metadata": {},
     "output_type": "execute_result"
    }
   ],
   "source": [
    "friendships"
   ]
  },
  {
   "cell_type": "code",
   "execution_count": 5,
   "id": "optional-generator",
   "metadata": {},
   "outputs": [],
   "source": [
    "# loop over the friendship pairs to populate it:\n",
    "for i, j in friendship_pairs:\n",
    "    friendships[i].append(j) # add j as a friend of user i\n",
    "    friendships[j].append(i) # add i as a friend of user j"
   ]
  },
  {
   "cell_type": "code",
   "execution_count": 6,
   "id": "engaging-candy",
   "metadata": {},
   "outputs": [
    {
     "data": {
      "text/plain": [
       "{0: [1, 2],\n",
       " 1: [0, 2, 3],\n",
       " 2: [0, 1, 3],\n",
       " 3: [1, 2, 4],\n",
       " 4: [3, 5],\n",
       " 5: [4, 6, 7],\n",
       " 6: [5, 8],\n",
       " 7: [5, 8],\n",
       " 8: [6, 7, 9],\n",
       " 9: [8]}"
      ]
     },
     "execution_count": 6,
     "metadata": {},
     "output_type": "execute_result"
    }
   ],
   "source": [
    "friendships"
   ]
  },
  {
   "cell_type": "markdown",
   "id": "elder-flooring",
   "metadata": {},
   "source": [
    "Now that we have the friendship in a `dict`, we can easily ask questions of our graph, like \"*What's the average number of connections*?\"\n",
    "\n",
    "First we find the *total* number of connections, by summing up the lengths of all the friends lists."
   ]
  },
  {
   "cell_type": "code",
   "execution_count": 7,
   "id": "pediatric-valuation",
   "metadata": {},
   "outputs": [],
   "source": [
    "def number_of_friends(user):\n",
    "    \"\"\"How many friends does _user_ have?\"\"\"\n",
    "    user_id = user[\"id\"]\n",
    "    friend_id = friendships[user_id]\n",
    "    return len(friend_id)\n",
    "\n",
    "total_connections = sum(number_of_friends(user) for user in users)"
   ]
  },
  {
   "cell_type": "code",
   "execution_count": 8,
   "id": "constant-slide",
   "metadata": {},
   "outputs": [
    {
     "data": {
      "text/plain": [
       "2"
      ]
     },
     "execution_count": 8,
     "metadata": {},
     "output_type": "execute_result"
    }
   ],
   "source": [
    "number_of_friends(users[0])"
   ]
  },
  {
   "cell_type": "code",
   "execution_count": 9,
   "id": "fantastic-mills",
   "metadata": {},
   "outputs": [
    {
     "data": {
      "text/plain": [
       "3"
      ]
     },
     "execution_count": 9,
     "metadata": {},
     "output_type": "execute_result"
    }
   ],
   "source": [
    "number_of_friends(users[5])"
   ]
  },
  {
   "cell_type": "code",
   "execution_count": 10,
   "id": "amateur-encoding",
   "metadata": {},
   "outputs": [
    {
     "data": {
      "text/plain": [
       "24"
      ]
     },
     "execution_count": 10,
     "metadata": {},
     "output_type": "execute_result"
    }
   ],
   "source": [
    "total_connections"
   ]
  },
  {
   "cell_type": "markdown",
   "id": "right-metabolism",
   "metadata": {},
   "source": [
    "And then we just divide by the numbers of users:"
   ]
  },
  {
   "cell_type": "code",
   "execution_count": 11,
   "id": "wicked-reverse",
   "metadata": {},
   "outputs": [],
   "source": [
    "num_users = len(users) # len of the user list\n",
    "avg_connections = total_connections / num_users # 24 / 10 == 2.4"
   ]
  },
  {
   "cell_type": "code",
   "execution_count": 12,
   "id": "motivated-polyester",
   "metadata": {},
   "outputs": [
    {
     "data": {
      "text/plain": [
       "2.4"
      ]
     },
     "execution_count": 12,
     "metadata": {},
     "output_type": "execute_result"
    }
   ],
   "source": [
    "avg_connections"
   ]
  },
  {
   "cell_type": "markdown",
   "id": "romantic-projection",
   "metadata": {},
   "source": [
    "It is also easy to find the most connected people, they are the people who have the largest number of friends.\n",
    "\n",
    "Since there is not very many users, we can simply sort them from \"most friends\" to \"least friends\""
   ]
  },
  {
   "cell_type": "code",
   "execution_count": 13,
   "id": "monetary-imagination",
   "metadata": {},
   "outputs": [],
   "source": [
    "# Create a list (user_id, number_of_friends).\n",
    "num_of_friends_by_id = [(user[\"id\"], number_of_friends(user))\n",
    "                        for user in users]\n",
    "\n",
    "# Sort the list\n",
    "num_of_friends_by_id.sort(\n",
    "# by num_friends\n",
    "key=lambda id_and_friends: id_and_friends[1],\n",
    "    reverse=True) #largest to smallest"
   ]
  },
  {
   "cell_type": "code",
   "execution_count": 14,
   "id": "numerous-myrtle",
   "metadata": {},
   "outputs": [
    {
     "data": {
      "text/plain": [
       "[(1, 3),\n",
       " (2, 3),\n",
       " (3, 3),\n",
       " (5, 3),\n",
       " (8, 3),\n",
       " (0, 2),\n",
       " (4, 2),\n",
       " (6, 2),\n",
       " (7, 2),\n",
       " (9, 1)]"
      ]
     },
     "execution_count": 14,
     "metadata": {},
     "output_type": "execute_result"
    }
   ],
   "source": [
    "num_of_friends_by_id"
   ]
  },
  {
   "cell_type": "markdown",
   "id": "suspected-equation",
   "metadata": {},
   "source": [
    "One way to think of what we have done is as a way of identifying people who are somehow central to the network.\n",
    "In fact, what we have just computed is the network metric *degree centrality*"
   ]
  },
  {
   "cell_type": "markdown",
   "id": "prostate-synthetic",
   "metadata": {},
   "source": [
    "## Data Scientists You May Know"
   ]
  },
  {
   "cell_type": "markdown",
   "id": "crucial-cartoon",
   "metadata": {},
   "source": [
    "While you are still filling in your new-hire paperwork, the VP of Fraternisation comes by your desk.\n",
    "\n",
    "She wants to encourage more connections among your members, and she asks you to design a \"Data Scientist You May Know\" suggester.\n",
    "\n",
    "Your first instinct is to suggest that users might know the friends of their friends.\n",
    "So you write some code to iterate over their friends and collect the friends' friends."
   ]
  },
  {
   "cell_type": "code",
   "execution_count": 15,
   "id": "decimal-texture",
   "metadata": {},
   "outputs": [],
   "source": [
    "def foaf_ids_bad(user):\n",
    "    \"\"\"foaf is short for 'friend of a friend' \"\"\"\n",
    "    return[foaf_id for friend_id in friendships[user[\"id\"]]\n",
    "           for foaf_id in friendships[friend_id]]"
   ]
  },
  {
   "cell_type": "code",
   "execution_count": 16,
   "id": "revised-discrimination",
   "metadata": {},
   "outputs": [
    {
     "data": {
      "text/plain": [
       "[0, 2, 3, 0, 1, 3]"
      ]
     },
     "execution_count": 16,
     "metadata": {},
     "output_type": "execute_result"
    }
   ],
   "source": [
    "foaf_ids_bad(users[0])"
   ]
  },
  {
   "cell_type": "markdown",
   "id": "difficult-parallel",
   "metadata": {},
   "source": [
    "This is including user 0 twice, since Hero is indeed friends with both of his friends.\n",
    "It also includes user 3 twice, as Chi is reachable through two different friends."
   ]
  },
  {
   "cell_type": "code",
   "execution_count": 17,
   "id": "computational-bradley",
   "metadata": {},
   "outputs": [
    {
     "name": "stdout",
     "output_type": "stream",
     "text": [
      "[1, 2]\n",
      "[0, 2, 3]\n",
      "[0, 1, 3]\n"
     ]
    }
   ],
   "source": [
    "print(friendships[0])\n",
    "print(friendships[1])\n",
    "print(friendships[2])"
   ]
  },
  {
   "cell_type": "markdown",
   "id": "classical-dressing",
   "metadata": {},
   "source": [
    "Knowing that people are friends of friends in multiple ways seems like interseting information, so maybe instead we should produce a *count* of mutual friends. And we should perhaps exclude people already known to the user:"
   ]
  },
  {
   "cell_type": "code",
   "execution_count": 18,
   "id": "employed-marketing",
   "metadata": {},
   "outputs": [],
   "source": [
    "from collections import Counter\n",
    "\n",
    "def friends_of_friends(user):\n",
    "    user_id = user[\"id\"]\n",
    "    return Counter(\n",
    "        foaf_id \n",
    "        for friend_id in friendships[user_id]                 # For each of my friends,\n",
    "        for foaf_id in friendships[friend_id]                 # find their friends\n",
    "        if foaf_id != user_id                                 # who arent me\n",
    "        and foaf_id not in friendships[user_id]               # and aren't my friends\n",
    "        )"
   ]
  },
  {
   "cell_type": "code",
   "execution_count": 19,
   "id": "coordinated-arctic",
   "metadata": {},
   "outputs": [
    {
     "data": {
      "text/plain": [
       "Counter({0: 2, 5: 1})"
      ]
     },
     "execution_count": 19,
     "metadata": {},
     "output_type": "execute_result"
    }
   ],
   "source": [
    "friends_of_friends(users[3])"
   ]
  },
  {
   "cell_type": "code",
   "execution_count": 20,
   "id": "seventh-facility",
   "metadata": {},
   "outputs": [
    {
     "data": {
      "text/plain": [
       "Counter({3: 2})"
      ]
     },
     "execution_count": 20,
     "metadata": {},
     "output_type": "execute_result"
    }
   ],
   "source": [
    "friends_of_friends(users[0])"
   ]
  },
  {
   "cell_type": "markdown",
   "id": "steady-joseph",
   "metadata": {},
   "source": [
    "As a data scientist, you know that you also might enjoy meeting users with similar interests.\n",
    "(This is a good example of the \"substantive expertise\" aspect of data science.) After asking around, you manage to get your hands on this data, as a list of pairs(user_id, interest):"
   ]
  },
  {
   "cell_type": "code",
   "execution_count": 21,
   "id": "massive-wednesday",
   "metadata": {},
   "outputs": [],
   "source": [
    "interests = [(0, \"Hadoop\"),(0, \"Big Data\"),(0, \"HBase\"),(0, \"Java\"),\n",
    "            (0, \"Spark\"),(0, \"Storm\"),(0, \"Cassandra\"),\n",
    "            (1, \"NoSQL\"),(1, \"MongoDB\"),(1, \"Cassandra\"),(1, \"HBase\"),\n",
    "            (1, \"Postgres\"),(2, \"Python\"),(2, \"scikit-learn\"),(2, \"scipy\"),\n",
    "            (2, \"numpy\"),(2, \"statsmodels\"),(2, \"pandas\"),(3, \"R\"),(3, \"Python\"),\n",
    "            (3, \"statistics\"),(3, \"regression\"),(3, \"probability\"),\n",
    "            (4, \"machine learning\"),(4, \"regression\"),(4, \"decision trees\"),\n",
    "            (4, \"libsvm\"),(5, \"Python\"),(5, \"programming languages\"),(6, \"statistics\"),\n",
    "            (6, \"probability\"),(6, \"mathematics\"),(6, \"theory\"),\n",
    "            (7, \"machine learning\"),(7, \"scikit-learn\"),(7, \"Mahout\"),\n",
    "            (7, \"neural networks\"),(8, \"neural networks\"),(8, \"deep learning\"),\n",
    "            (8, \"Big Data\"),(8, \"artificial intelligence\"),(9, \"Hadoop\"),\n",
    "            (9, \"Java\"),(9, \"MapReduce\"),(9, \"Big Data\")\n",
    "           ]"
   ]
  },
  {
   "cell_type": "markdown",
   "id": "competitive-jacksonville",
   "metadata": {},
   "source": [
    "For example, Hero(id 0) ha no friends in common with Klein(id 9), but they both share interests in Java and big data.\n",
    "\n",
    "It is easy to build a function that finds users with a certain interest:"
   ]
  },
  {
   "cell_type": "code",
   "execution_count": 22,
   "id": "japanese-start",
   "metadata": {},
   "outputs": [],
   "source": [
    "def data_scientists_who_like(target_interest):\n",
    "    \"\"\"Find the ids of all users who like the target interest\"\"\"\n",
    "    return [user_id\n",
    "            for user_id, user_interest in interests\n",
    "            if user_interest == target_interest]"
   ]
  },
  {
   "cell_type": "code",
   "execution_count": 23,
   "id": "under-impact",
   "metadata": {},
   "outputs": [
    {
     "data": {
      "text/plain": [
       "[2, 3, 5]"
      ]
     },
     "execution_count": 23,
     "metadata": {},
     "output_type": "execute_result"
    }
   ],
   "source": [
    "data_scientists_who_like(\"Python\")"
   ]
  },
  {
   "cell_type": "code",
   "execution_count": 24,
   "id": "durable-vanilla",
   "metadata": {},
   "outputs": [
    {
     "data": {
      "text/plain": [
       "[0, 8, 9]"
      ]
     },
     "execution_count": 24,
     "metadata": {},
     "output_type": "execute_result"
    }
   ],
   "source": [
    "data_scientists_who_like(\"Big Data\")"
   ]
  },
  {
   "cell_type": "markdown",
   "id": "dramatic-simon",
   "metadata": {},
   "source": [
    "This works, however it has to examine the whole list of interests for every search. \n",
    "If we have a lot of users and interests (or if we just want to do a lot of searches), we are probably better off building an index from interests to users:"
   ]
  },
  {
   "cell_type": "code",
   "execution_count": 25,
   "id": "standing-essence",
   "metadata": {},
   "outputs": [],
   "source": [
    "from collections import defaultdict\n",
    "\n",
    "#keys are interests, values are lists of user_ids with that interest\n",
    "user_ids_by_interest = defaultdict(list)\n",
    "\n",
    "for user_id, interest in interests:\n",
    "    user_ids_by_interest[interest].append(user_id)"
   ]
  },
  {
   "cell_type": "code",
   "execution_count": 26,
   "id": "corporate-cancer",
   "metadata": {},
   "outputs": [
    {
     "data": {
      "text/plain": [
       "defaultdict(list,\n",
       "            {'Hadoop': [0, 9],\n",
       "             'Big Data': [0, 8, 9],\n",
       "             'HBase': [0, 1],\n",
       "             'Java': [0, 9],\n",
       "             'Spark': [0],\n",
       "             'Storm': [0],\n",
       "             'Cassandra': [0, 1],\n",
       "             'NoSQL': [1],\n",
       "             'MongoDB': [1],\n",
       "             'Postgres': [1],\n",
       "             'Python': [2, 3, 5],\n",
       "             'scikit-learn': [2, 7],\n",
       "             'scipy': [2],\n",
       "             'numpy': [2],\n",
       "             'statsmodels': [2],\n",
       "             'pandas': [2],\n",
       "             'R': [3],\n",
       "             'statistics': [3, 6],\n",
       "             'regression': [3, 4],\n",
       "             'probability': [3, 6],\n",
       "             'machine learning': [4, 7],\n",
       "             'decision trees': [4],\n",
       "             'libsvm': [4],\n",
       "             'programming languages': [5],\n",
       "             'mathematics': [6],\n",
       "             'theory': [6],\n",
       "             'Mahout': [7],\n",
       "             'neural networks': [7, 8],\n",
       "             'deep learning': [8],\n",
       "             'artificial intelligence': [8],\n",
       "             'MapReduce': [9]})"
      ]
     },
     "execution_count": 26,
     "metadata": {},
     "output_type": "execute_result"
    }
   ],
   "source": [
    "user_ids_by_interest"
   ]
  },
  {
   "cell_type": "code",
   "execution_count": 27,
   "id": "african-shooting",
   "metadata": {},
   "outputs": [
    {
     "data": {
      "text/plain": [
       "[2, 3, 5]"
      ]
     },
     "execution_count": 27,
     "metadata": {},
     "output_type": "execute_result"
    }
   ],
   "source": [
    "user_ids_by_interest[\"Python\"]"
   ]
  },
  {
   "cell_type": "code",
   "execution_count": 28,
   "id": "fewer-constitution",
   "metadata": {},
   "outputs": [
    {
     "data": {
      "text/plain": [
       "[0, 9]"
      ]
     },
     "execution_count": 28,
     "metadata": {},
     "output_type": "execute_result"
    }
   ],
   "source": [
    "user_ids_by_interest[\"Java\"]"
   ]
  },
  {
   "cell_type": "markdown",
   "id": "pleased-tanzania",
   "metadata": {},
   "source": [
    "And another from users to interests:"
   ]
  },
  {
   "cell_type": "code",
   "execution_count": 29,
   "id": "organized-volleyball",
   "metadata": {},
   "outputs": [],
   "source": [
    "# keys are user_ids, values are lists of user_ids with that interest\n",
    "\n",
    "interests_by_user_id = defaultdict(list)\n",
    "\n",
    "for user_id, interest in interests:\n",
    "    interests_by_user_id[user_id].append(interest)"
   ]
  },
  {
   "cell_type": "code",
   "execution_count": 30,
   "id": "decent-closing",
   "metadata": {},
   "outputs": [
    {
     "data": {
      "text/plain": [
       "['Hadoop', 'Big Data', 'HBase', 'Java', 'Spark', 'Storm', 'Cassandra']"
      ]
     },
     "execution_count": 30,
     "metadata": {},
     "output_type": "execute_result"
    }
   ],
   "source": [
    "interests_by_user_id[0]"
   ]
  },
  {
   "cell_type": "code",
   "execution_count": 31,
   "id": "formal-marking",
   "metadata": {},
   "outputs": [
    {
     "data": {
      "text/plain": [
       "['Hadoop', 'Java', 'MapReduce', 'Big Data']"
      ]
     },
     "execution_count": 31,
     "metadata": {},
     "output_type": "execute_result"
    }
   ],
   "source": [
    "interests_by_user_id[9]"
   ]
  },
  {
   "cell_type": "code",
   "execution_count": 32,
   "id": "signed-pillow",
   "metadata": {},
   "outputs": [
    {
     "data": {
      "text/plain": [
       "['NoSQL', 'MongoDB', 'Cassandra', 'HBase', 'Postgres']"
      ]
     },
     "execution_count": 32,
     "metadata": {},
     "output_type": "execute_result"
    }
   ],
   "source": [
    "interests_by_user_id[1]"
   ]
  },
  {
   "cell_type": "markdown",
   "id": "dangerous-estonia",
   "metadata": {},
   "source": [
    "Now it is easy to find who has the most interests in common with a given user:\n",
    "* Iterate over the user's interests.\n",
    "* For each interest, iterate over the other users with that interest.\n",
    "* Keep count of how many times we see each other user."
   ]
  },
  {
   "cell_type": "code",
   "execution_count": 33,
   "id": "fallen-attraction",
   "metadata": {},
   "outputs": [],
   "source": [
    "def most_common_interests_with(user):\n",
    "    return Counter(\n",
    "        interested_user_id\n",
    "        for interest in interests_by_user_id[user[\"id\"]]\n",
    "        for interested_user_id in user_ids_by_interest[interest]\n",
    "        if interested_user_id != user[\"id\"]\n",
    "    )"
   ]
  },
  {
   "cell_type": "code",
   "execution_count": 34,
   "id": "opened-translator",
   "metadata": {},
   "outputs": [
    {
     "data": {
      "text/plain": [
       "Counter({9: 3, 8: 1, 1: 2})"
      ]
     },
     "execution_count": 34,
     "metadata": {},
     "output_type": "execute_result"
    }
   ],
   "source": [
    "most_common_interests_with(users[0])"
   ]
  },
  {
   "cell_type": "markdown",
   "id": "genuine-macintosh",
   "metadata": {},
   "source": [
    "We could then use this to build a richer \"Data Scientists You May Know\" feature based on a combination of mutual friends and mutual interests. We will explore these kinds of applications in a Chapter 23."
   ]
  },
  {
   "cell_type": "markdown",
   "id": "refined-narrow",
   "metadata": {},
   "source": [
    "## Salaries and Experience"
   ]
  },
  {
   "cell_type": "markdown",
   "id": "focal-abuse",
   "metadata": {},
   "source": [
    "Right as you are about to head to lunch, the VP of Public Relations asks if you can provide some fun facts about how much data scientists earn. Salary data is of coursesensitive, but he manages to provide you an anonymous dataset containing each user's salary and tenure as a data scientist (in years):"
   ]
  },
  {
   "cell_type": "code",
   "execution_count": 35,
   "id": "demonstrated-treasure",
   "metadata": {},
   "outputs": [],
   "source": [
    "salaries_and_tenures = [(83000, 8.7), (88000, 8.1),\n",
    "                        (48000, 0.7), (76000, 6),\n",
    "                        (69000, 6.5), (76000, 7.5),\n",
    "                        (60000, 2.5), (83000, 10),\n",
    "                        (48000, 1.9), (63000, 4.2),]"
   ]
  },
  {
   "cell_type": "code",
   "execution_count": 37,
   "id": "sought-crowd",
   "metadata": {},
   "outputs": [],
   "source": [
    "# keys are years, values are lists of the salaries for each tenure\n",
    "\n",
    "salary_by_tenure = defaultdict(list)\n",
    "\n",
    "for salary, tenure in salaries_and_tenures:\n",
    "    salary_by_tenure[tenure].append(salary)\n",
    "    \n",
    "# keys are years, each value is average salary for that tenure.\n",
    "\n",
    "average_salary_by_tenure = {\n",
    "    tenure: sum(salaries) / len(salaries)\n",
    "    for tenure, salaries in salary_by_tenure.items()\n",
    "}"
   ]
  },
  {
   "cell_type": "code",
   "execution_count": 38,
   "id": "excess-herald",
   "metadata": {},
   "outputs": [
    {
     "data": {
      "text/plain": [
       "defaultdict(list,\n",
       "            {8.7: [83000],\n",
       "             8.1: [88000],\n",
       "             0.7: [48000],\n",
       "             6: [76000],\n",
       "             6.5: [69000],\n",
       "             7.5: [76000],\n",
       "             2.5: [60000],\n",
       "             10: [83000],\n",
       "             1.9: [48000],\n",
       "             4.2: [63000]})"
      ]
     },
     "execution_count": 38,
     "metadata": {},
     "output_type": "execute_result"
    }
   ],
   "source": [
    "salary_by_tenure"
   ]
  },
  {
   "cell_type": "code",
   "execution_count": 39,
   "id": "dangerous-provider",
   "metadata": {},
   "outputs": [
    {
     "data": {
      "text/plain": [
       "{8.7: 83000.0,\n",
       " 8.1: 88000.0,\n",
       " 0.7: 48000.0,\n",
       " 6: 76000.0,\n",
       " 6.5: 69000.0,\n",
       " 7.5: 76000.0,\n",
       " 2.5: 60000.0,\n",
       " 10: 83000.0,\n",
       " 1.9: 48000.0,\n",
       " 4.2: 63000.0}"
      ]
     },
     "execution_count": 39,
     "metadata": {},
     "output_type": "execute_result"
    }
   ],
   "source": [
    "average_salary_by_tenure"
   ]
  },
  {
   "cell_type": "code",
   "execution_count": 42,
   "id": "juvenile-spectrum",
   "metadata": {},
   "outputs": [
    {
     "data": {
      "image/png": "[encoded data removed]",
      "text/plain": [
       "<Figure size 432x288 with 1 Axes>"
      ]
     },
     "metadata": {
      "needs_background": "light"
     },
     "output_type": "display_data"
    }
   ],
   "source": [
    "from matplotlib import pyplot as plt\n",
    "\n",
    "years = [0.7, 1.9, 2.5, 4.2, 6, 6.5, 7.5, 8.1, 8.7, 10]\n",
    "salary = [48000, 48000, 60000, 63000, 76000, 69000, 76000, 88000, 83000, 83000]\n",
    "\n",
    "plt.scatter(years, salary)\n",
    "\n",
    "plt.title('Salary by years experience')\n",
    "plt.xlabel('# of years')\n",
    "plt.ylabel('Salary')\n",
    "plt.show();"
   ]
  },
  {
   "cell_type": "markdown",
   "id": "pressing-reach",
   "metadata": {},
   "source": [
    "This turns out to be not particularly useful, as none of the users have the same tenure, which means we're just reporting the individual user's salaries.\n",
    "\n",
    "It may be more helpful to bucket the tenures:"
   ]
  },
  {
   "cell_type": "code",
   "execution_count": 43,
   "id": "hired-rough",
   "metadata": {},
   "outputs": [],
   "source": [
    "def tenure_bucket(tenure):\n",
    "    if tenure < 2:\n",
    "        return \"less than two\"\n",
    "    elif tenure < 5:\n",
    "        return \"between two and five\"\n",
    "    else: \n",
    "        return \"more than five\""
   ]
  },
  {
   "cell_type": "markdown",
   "id": "compressed-packing",
   "metadata": {},
   "source": [
    "Then we can group together the salaries corresponding to each bucket."
   ]
  },
  {
   "cell_type": "code",
   "execution_count": 44,
   "id": "incorrect-coating",
   "metadata": {},
   "outputs": [],
   "source": [
    "# Keys are tenure_buckets, values are lists of salaries for that bucket\n",
    "\n",
    "salary_by_tenure_bucket = defaultdict(list)\n",
    "\n",
    "for salary, tenure in salaries_and_tenures:\n",
    "    bucket = tenure_bucket(tenure)\n",
    "    salary_by_tenure_bucket[bucket].append(salary)"
   ]
  },
  {
   "cell_type": "markdown",
   "id": "painful-cheese",
   "metadata": {},
   "source": [
    "and finally compute the average salary for each group.\n",
    "    "
   ]
  },
  {
   "cell_type": "code",
   "execution_count": 45,
   "id": "consistent-baseball",
   "metadata": {},
   "outputs": [],
   "source": [
    "# Keys are tenure buckets, values are average salary for that bucket.\n",
    "\n",
    "average_salary_by_bucket = {\n",
    "    tenure_bucket: sum(salaries) / len(salaries)\n",
    "    for tenure_bucket, salaries in salary_by_tenure_bucket.items()\n",
    "}"
   ]
  },
  {
   "cell_type": "markdown",
   "id": "funky-delaware",
   "metadata": {},
   "source": [
    "which is more interesting:"
   ]
  },
  {
   "cell_type": "code",
   "execution_count": 46,
   "id": "extended-psychiatry",
   "metadata": {},
   "outputs": [
    {
     "data": {
      "text/plain": [
       "{'more than five': 79166.66666666667,\n",
       " 'less than two': 48000.0,\n",
       " 'between two and five': 61500.0}"
      ]
     },
     "execution_count": 46,
     "metadata": {},
     "output_type": "execute_result"
    }
   ],
   "source": [
    "average_salary_by_bucket"
   ]
  },
  {
   "cell_type": "markdown",
   "id": "graphic-freedom",
   "metadata": {},
   "source": [
    "And now we have our soundbite: **\"Data scientists with more than five years' experience earn 65% more than data scientists with little or no experience \"**"
   ]
  },
  {
   "cell_type": "markdown",
   "id": "retired-parish",
   "metadata": {},
   "source": [
    "## Paid Accounts"
   ]
  },
  {
   "cell_type": "markdown",
   "id": "representative-tuesday",
   "metadata": {},
   "source": [
    "When you get back to your desk, the VP of Revenue is waiting for you. She wants to better understand which users pay for accounts and which don't.\n",
    "\n",
    "You notice that there seems to be a correspondence between years of experience and paid accounts:"
   ]
  },
  {
   "cell_type": "markdown",
   "id": "baking-network",
   "metadata": {},
   "source": [
    "0.7 paid\n",
    "1.9 unpaid\n",
    "2.5 paid\n",
    "4.2 unpaid\n",
    "6.0 unpaid\n",
    "6.5 unpaid\n",
    "7.5 unpaid\n",
    "8.1 unpaid\n",
    "8.7 paid\n",
    "10.0 paid"
   ]
  },
  {
   "cell_type": "markdown",
   "id": "productive-chemistry",
   "metadata": {},
   "source": [
    "If you wanted to create a a model, though this is definitely not enough data to base a model on. You might try to predict \"paid\" for users with very few and very many years of experience, and \"unpaid\" for users with middling amounts of experience: "
   ]
  },
  {
   "cell_type": "code",
   "execution_count": 50,
   "id": "canadian-consciousness",
   "metadata": {},
   "outputs": [],
   "source": [
    "def predict_paid_or_unpaid(years_experience):\n",
    "    if years_experience < 3.0:\n",
    "        return \"paid\"\n",
    "    elif years_experience < 8.5:\n",
    "        return \"unpaid\"\n",
    "    else:\n",
    "        return \"paid\""
   ]
  },
  {
   "cell_type": "code",
   "execution_count": 51,
   "id": "alive-chocolate",
   "metadata": {},
   "outputs": [
    {
     "data": {
      "text/plain": [
       "'unpaid'"
      ]
     },
     "execution_count": 51,
     "metadata": {},
     "output_type": "execute_result"
    }
   ],
   "source": [
    "predict_paid_or_unpaid(6)"
   ]
  },
  {
   "cell_type": "code",
   "execution_count": 52,
   "id": "single-failure",
   "metadata": {},
   "outputs": [
    {
     "data": {
      "text/plain": [
       "'paid'"
      ]
     },
     "execution_count": 52,
     "metadata": {},
     "output_type": "execute_result"
    }
   ],
   "source": [
    "predict_paid_or_unpaid(2)"
   ]
  },
  {
   "cell_type": "code",
   "execution_count": null,
   "id": "continued-equivalent",
   "metadata": {},
   "outputs": [],
   "source": [
    "With more data (and more mathematics), we could build a model predicting the likelhood that a user would pay"
   ]
  }
 ],
 "metadata": {
  "hide_input": false,
  "kernelspec": {
   "display_name": "Python 3",
   "language": "python",
   "name": "python3"
  },
  "language_info": {
   "codemirror_mode": {
    "name": "ipython",
    "version": 3
   },
   "file_extension": ".py",
   "mimetype": "text/x-python",
   "name": "python",
   "nbconvert_exporter": "python",
   "pygments_lexer": "ipython3",
   "version": "3.9.2"
  }
 },
 "nbformat": 4,
 "nbformat_minor": 5
}

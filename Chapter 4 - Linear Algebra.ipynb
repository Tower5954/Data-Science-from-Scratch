{
 "cells": [
  {
   "cell_type": "markdown",
   "id": "persistent-smart",
   "metadata": {},
   "source": [
    "*Is there anything more useless or less usefull than algebra?* \\\n",
    "*- Billy Connoly*"
   ]
  },
  {
   "cell_type": "markdown",
   "id": "rotary-glossary",
   "metadata": {},
   "source": [
    "Linear Algebra is the branch of mathematics that deals with *vector spaces* "
   ]
  },
  {
   "cell_type": "markdown",
   "id": "major-crisis",
   "metadata": {},
   "source": [
    "# Vectors"
   ]
  },
  {
   "cell_type": "markdown",
   "id": "single-selection",
   "metadata": {},
   "source": [
    "Abstractly, *vectors* are objects that can be added together to form new vectors and that can be multiplied by *scalars* (i.e, numbers, also to form new vectors)."
   ]
  },
  {
   "cell_type": "markdown",
   "id": "imported-attention",
   "metadata": {},
   "source": [
    "Concretely (for us), vectors are points in some finite-dimensional space. Although we might not think of our data as vectors, they are often a useful way to represent numeric data."
   ]
  },
  {
   "cell_type": "markdown",
   "id": "accomplished-concrete",
   "metadata": {},
   "source": [
    "For example, if you have the heights, weights, and ages of a large number of people, you can treat your data as three-dimensional vectors [height, weight, age].\n",
    "If you are teaching a class with four exams, you can treat student grades as four-dimensional vectors [exam1, exam2, exam3, exam4]"
   ]
  },
  {
   "cell_type": "markdown",
   "id": "elect-monte",
   "metadata": {},
   "source": [
    "The simplest form-scratch approach is to represent vectors as lists of numbers. A list of three numbers corresponds to a vector in three-dimensional space, and vice versa.\n"
   ]
  },
  {
   "cell_type": "markdown",
   "id": "satisfactory-paradise",
   "metadata": {},
   "source": [
    "We will accomplish this with a type alias that says a Vector is just a list of floats:"
   ]
  },
  {
   "cell_type": "code",
   "execution_count": 1,
   "id": "domestic-arlington",
   "metadata": {},
   "outputs": [],
   "source": [
    "from typing import List\n",
    "\n",
    "vector = List[float]\n",
    "\n",
    "height_weight_age = [70, # inches\n",
    "                     170, # pounds\n",
    "                     40] # years\n",
    "\n",
    "grades = [95, # exam1\n",
    "          80, # exam2\n",
    "          75, # exam3\n",
    "          62,] # exam4\n"
   ]
  },
  {
   "cell_type": "markdown",
   "id": "transparent-prophet",
   "metadata": {},
   "source": [
    "We will also want to perform *arithmetic* on vectors. Because Python `list` aren't vectors (and hence provide no facilities for vector arithmetic), \n",
    "we will need to build these arithmetic tools ourselves."
   ]
  },
  {
   "cell_type": "markdown",
   "id": "multiple-worse",
   "metadata": {},
   "source": [
    "To begin with, we will frequently need to add two vectors. Vectors add *componentwise*.\n",
    "This means that if two vectors v and w are the same length, their sum is just the vector whose first element is v[0] + w[0], who's second element is v[1] + w[1] and so on.\n",
    "(If they are not the same length then we can not add them)."
   ]
  },
  {
   "cell_type": "markdown",
   "id": "fifth-serve",
   "metadata": {},
   "source": [
    "For example, adding the vectors [1, 2] and [2, 1] results in [1 + 2,  2 + 1] or [3, 3]."
   ]
  },
  {
   "cell_type": "markdown",
   "id": "controversial-television",
   "metadata": {},
   "source": [
    "We can easily do this by zipping them together and using list comprehension to add the corresponding elements:\n",
    "    "
   ]
  },
  {
   "cell_type": "code",
   "execution_count": 2,
   "id": "convenient-mouse",
   "metadata": {},
   "outputs": [],
   "source": [
    "def add(v: vector, w: vector) -> vector:\n",
    "    \"\"\" Adds corresponding elements\"\"\"\n",
    "    assert len(v) == len(w), \"Vectors must be the same length\"\n",
    "    return [v_i + w_i for v_i, w_i in zip(v, w)]\n",
    "assert add ([1, 2, 3], [4, 5, 6]) == [5, 7, 9]"
   ]
  },
  {
   "cell_type": "code",
   "execution_count": 3,
   "id": "electronic-toolbox",
   "metadata": {},
   "outputs": [
    {
     "data": {
      "text/plain": [
       "[5, 7, 9]"
      ]
     },
     "execution_count": 3,
     "metadata": {},
     "output_type": "execute_result"
    }
   ],
   "source": [
    "add([1, 2, 3], [4, 5, 6])"
   ]
  },
  {
   "cell_type": "code",
   "execution_count": 4,
   "id": "nearby-airport",
   "metadata": {},
   "outputs": [],
   "source": [
    "def subtract(v: vector, w: vector) -> vector:\n",
    "    \"\"\"Subtracts corresponding elements\"\"\"\n",
    "    assert len(v) == len(w), \"vectors must be the same length\"\n",
    "    return [v_i - w_i for v_i, w_i in zip(v, w)]\n",
    "\n",
    "assert subtract([5, 7, 9], [4, 5, 6]) == [1, 2, 3]"
   ]
  },
  {
   "cell_type": "code",
   "execution_count": 5,
   "id": "biblical-thermal",
   "metadata": {},
   "outputs": [
    {
     "data": {
      "text/plain": [
       "[1, 2, 3]"
      ]
     },
     "execution_count": 5,
     "metadata": {},
     "output_type": "execute_result"
    }
   ],
   "source": [
    "subtract([5, 7, 9], [4, 5, 6])"
   ]
  },
  {
   "cell_type": "markdown",
   "id": "particular-savannah",
   "metadata": {},
   "source": [
    "We will sometimes want to componentwise sum a list of vectors - that is - create a new vector whose first element is the sum of all the first elements, whose second element is the sum of all the second elements, and so on:\n",
    "    "
   ]
  },
  {
   "cell_type": "code",
   "execution_count": 6,
   "id": "pressing-drilling",
   "metadata": {},
   "outputs": [],
   "source": [
    "def vector_sum(vectors: list[vector]) -> vector:\n",
    "    \"\"\"Sums all corresponding elements\"\"\"\n",
    "    # Check that vectors is not empty\n",
    "    assert vectors, \"no vectors provided\"\n",
    "    \n",
    "    # Check the vectors are all the same size\n",
    "    num_elements = len(vectors[0])\n",
    "    assert all(len(v) == num_elements for v in vectors), \"different sizes\"\n",
    "    \n",
    "    # the i-th element of the result is the sum of every vector[i]\n",
    "    return [sum(vector[i] for vector in vectors)\n",
    "           for i in range(num_elements)]\n",
    "\n",
    "assert vector_sum([[1, 2], [3, 4], [5, 6], [7, 8]]) == [16, 20]"
   ]
  },
  {
   "cell_type": "code",
   "execution_count": 7,
   "id": "about-jacket",
   "metadata": {},
   "outputs": [
    {
     "data": {
      "text/plain": [
       "[16, 20]"
      ]
     },
     "execution_count": 7,
     "metadata": {},
     "output_type": "execute_result"
    }
   ],
   "source": [
    "vector_sum([[1, 2], [3, 4], [5, 6], [7, 8]])"
   ]
  },
  {
   "cell_type": "markdown",
   "id": "connected-swiss",
   "metadata": {},
   "source": [
    "We will also need to be able to multiply a vector by a scalar, which we do simply by multiplying each element of the vector by that number:"
   ]
  },
  {
   "cell_type": "code",
   "execution_count": 8,
   "id": "molecular-priest",
   "metadata": {},
   "outputs": [],
   "source": [
    "def scalar_multiply(c: float, v: vector) -> vector:\n",
    "    \"\"\"Multiplies every element by c\"\"\"\n",
    "    return [c * v_i for v_i in v]\n",
    "\n",
    "assert scalar_multiply(2, [1, 2, 3]) == [2, 4, 6]"
   ]
  },
  {
   "cell_type": "code",
   "execution_count": 9,
   "id": "pregnant-technical",
   "metadata": {},
   "outputs": [
    {
     "data": {
      "text/plain": [
       "[2, 4, 6]"
      ]
     },
     "execution_count": 9,
     "metadata": {},
     "output_type": "execute_result"
    }
   ],
   "source": [
    "scalar_multiply(2, [1, 2, 3])"
   ]
  },
  {
   "cell_type": "markdown",
   "id": "ignored-replication",
   "metadata": {},
   "source": [
    "This allows us to compute the componentwise means of a list of (same-sized) vectors:\n",
    "    "
   ]
  },
  {
   "cell_type": "code",
   "execution_count": 10,
   "id": "colonial-nancy",
   "metadata": {},
   "outputs": [],
   "source": [
    "def vector_mean(vectors: List[vector]) -> vector:\n",
    "    \"\"\"Computes the element-wise average\"\"\"\n",
    "    n = len(vectors)\n",
    "    return scalar_multiply(1/n, vector_sum(vectors))\n",
    "\n",
    "assert vector_mean([[1, 2], [3, 4], [5, 6]]) == [3, 4]"
   ]
  },
  {
   "cell_type": "code",
   "execution_count": 11,
   "id": "electronic-median",
   "metadata": {},
   "outputs": [
    {
     "data": {
      "text/plain": [
       "[3.0, 4.0]"
      ]
     },
     "execution_count": 11,
     "metadata": {},
     "output_type": "execute_result"
    }
   ],
   "source": [
    "vector_mean([[1, 2], [3, 4], [5, 6]])"
   ]
  },
  {
   "cell_type": "markdown",
   "id": "little-jewel",
   "metadata": {},
   "source": [
    "A less obvious tool is the *dot product*. The dot product of two vectors is the sum of their componentwise products:"
   ]
  },
  {
   "cell_type": "code",
   "execution_count": 12,
   "id": "mechanical-attraction",
   "metadata": {},
   "outputs": [],
   "source": [
    "def dot(v: vector, w: vector) -> float:\n",
    "    \"\"\"Computes v_i * w_i + ... + v_n * w_n\"\"\"\n",
    "    assert len(v) == len(w), \"vectors must be same length\"\n",
    "    \n",
    "    return sum(v_i * w_i for v_i, w_i in zip(v, w))\n",
    "\n",
    "assert dot([1, 2, 3], [4, 5, 6]) == 32 # 1 * 4 + 2 * 5 + 3 * 6"
   ]
  },
  {
   "cell_type": "code",
   "execution_count": 13,
   "id": "aboriginal-clock",
   "metadata": {},
   "outputs": [
    {
     "data": {
      "text/plain": [
       "32"
      ]
     },
     "execution_count": 13,
     "metadata": {},
     "output_type": "execute_result"
    }
   ],
   "source": [
    "dot([1, 2, 3], [4, 5, 6])"
   ]
  },
  {
   "cell_type": "code",
   "execution_count": 14,
   "id": "handled-teddy",
   "metadata": {},
   "outputs": [],
   "source": [
    "# dot([1, 2, 3], [4, 5 ])"
   ]
  },
  {
   "cell_type": "markdown",
   "id": "sufficient-minute",
   "metadata": {},
   "source": [
    "If w has magnitude 1, the dot product measures how far the vector v extends in the w direction."
   ]
  },
  {
   "cell_type": "markdown",
   "id": "sealed-papua",
   "metadata": {},
   "source": [
    "For example, if w = [1, 0], then `dot(v, w)` is just the first component of v."
   ]
  },
  {
   "cell_type": "markdown",
   "id": "infrared-counter",
   "metadata": {},
   "source": [
    "Another way of saying this is that it's the length of the vector you would get if you projected v onto w."
   ]
  },
  {
   "cell_type": "markdown",
   "id": "lovely-detective",
   "metadata": {},
   "source": [
    "Using this, it's easy to compute a vector's sum of squares:"
   ]
  },
  {
   "cell_type": "code",
   "execution_count": 15,
   "id": "acquired-malta",
   "metadata": {},
   "outputs": [],
   "source": [
    "def sum_of_squares(v:vector) -> float:\n",
    "    \"\"\"Returns v_1 * v_1 + ... + v_n * v_n\"\"\"\n",
    "    return dot(v, v)"
   ]
  },
  {
   "cell_type": "code",
   "execution_count": 16,
   "id": "lasting-reynolds",
   "metadata": {},
   "outputs": [
    {
     "data": {
      "text/plain": [
       "14"
      ]
     },
     "execution_count": 16,
     "metadata": {},
     "output_type": "execute_result"
    }
   ],
   "source": [
    "sum_of_squares([1, 2, 3])"
   ]
  },
  {
   "cell_type": "markdown",
   "id": "constant-estate",
   "metadata": {},
   "source": [
    "which we can use to compute it's *magnitude* (or length):"
   ]
  },
  {
   "cell_type": "code",
   "execution_count": 17,
   "id": "color-integer",
   "metadata": {},
   "outputs": [],
   "source": [
    "import math"
   ]
  },
  {
   "cell_type": "code",
   "execution_count": 18,
   "id": "anticipated-signal",
   "metadata": {},
   "outputs": [],
   "source": [
    "def magnitude(v: vector) -> float:\n",
    "    \"\"\"Returns the magnitude (or length) of v \"\"\"\n",
    "    return math.sqrt(sum_of_squares(v))"
   ]
  },
  {
   "cell_type": "code",
   "execution_count": 19,
   "id": "stuffed-latvia",
   "metadata": {},
   "outputs": [
    {
     "data": {
      "text/plain": [
       "5.0"
      ]
     },
     "execution_count": 19,
     "metadata": {},
     "output_type": "execute_result"
    }
   ],
   "source": [
    "magnitude([3, 4])"
   ]
  },
  {
   "cell_type": "markdown",
   "id": "interested-quick",
   "metadata": {},
   "source": [
    "We now have all the pieces we need to compute the distance between two vectors, defined as:\n",
    "    \n",
    "    ((v1 - w1)^2 + ... + (vn -wn)^2)^-2"
   ]
  },
  {
   "cell_type": "markdown",
   "id": "engaging-iraqi",
   "metadata": {},
   "source": [
    "In code:"
   ]
  },
  {
   "cell_type": "code",
   "execution_count": 20,
   "id": "innocent-emperor",
   "metadata": {},
   "outputs": [],
   "source": [
    "def squared_distance(v:vector, w: vector) -> float:\n",
    "    \"\"\"Computes (v_1 - w_1) ** 2 + ... + (v_n - w_n) ** 2\"\"\"\n",
    "    return sum_of_squares(subtract(v, w))\n",
    "\n",
    "def distance(v: vector, w: vector) -> float:\n",
    "    \"\"\"Computes the distance between v and w\"\"\"\n",
    "    return math.sqrt(squared_distance(v, w))"
   ]
  },
  {
   "cell_type": "markdown",
   "id": "seeing-palestine",
   "metadata": {},
   "source": [
    "🔑 **Note:** 🔑 Using lists as vectors is great for exposition but terrible for performance.\n",
    "In production code, you would want to use the NumPy library, which includes a high-performance array class with all sorts of arithmetic operations included."
   ]
  },
  {
   "cell_type": "markdown",
   "id": "intended-career",
   "metadata": {},
   "source": [
    "## Matrices"
   ]
  },
  {
   "cell_type": "markdown",
   "id": "surrounded-hurricane",
   "metadata": {},
   "source": [
    "A *matrix* is a two-dimensional collection of numbers. We will represent matrices as lists of lists, with each inner list having the same size and representing a *row* of the matrix. If **A** is a matrix, then **A[i][j]** is the element in the *i*th row and the *j*th column.\n",
    "Per mathematical convention, we will frequently use capital letters to represent matrices. For example:"
   ]
  },
  {
   "cell_type": "code",
   "execution_count": 21,
   "id": "foreign-quarterly",
   "metadata": {},
   "outputs": [],
   "source": [
    "# Another type alias\n",
    "Matrix = list[list[float]]\n",
    "\n",
    "A = [[1, 2, 3], # A has 2 rows and 3 columns\n",
    "     [4, 5, 6]]\n",
    "\n",
    "B = [[1, 2],  # B has 3 rows and 2 columns\n",
    "     [3, 4],\n",
    "     [5, 6]]"
   ]
  },
  {
   "cell_type": "markdown",
   "id": "smooth-weight",
   "metadata": {},
   "source": [
    "🔑 **Note:** 🔑 In mathematics, you would usually name the first row of the matrix \"row 1\" and the first column \"column 1.\" Because we are representing matrices with Python `lists`, which are zero-indexed, we will call the first row of a matrix \"row 0\" and the first column \"column 0.\""
   ]
  },
  {
   "cell_type": "markdown",
   "id": "operating-princess",
   "metadata": {},
   "source": [
    "Given this list-of-lists representation, the matrix A has `len`(A) rows and `len`(A[0]) columns, which we consider its shape: "
   ]
  },
  {
   "cell_type": "code",
   "execution_count": 22,
   "id": "cutting-tackle",
   "metadata": {},
   "outputs": [],
   "source": [
    "from typing import Tuple\n",
    "\n",
    "def  shape(A: Matrix) -> Tuple[int, int]:\n",
    "    \"\"\"Returns (# of rows of A, # of columns of A )\"\"\"\n",
    "    num_rows = len(A)\n",
    "    num_cols = len(A[0]) if A else 0  # number of elements in first row\n",
    "    return num_rows, num_cols"
   ]
  },
  {
   "cell_type": "code",
   "execution_count": 23,
   "id": "comparative-suggestion",
   "metadata": {},
   "outputs": [
    {
     "data": {
      "text/plain": [
       "(2, 3)"
      ]
     },
     "execution_count": 23,
     "metadata": {},
     "output_type": "execute_result"
    }
   ],
   "source": [
    "shape([[1, 2, 3], [4, 5, 6]])"
   ]
  },
  {
   "cell_type": "code",
   "execution_count": 24,
   "id": "entertaining-egypt",
   "metadata": {},
   "outputs": [
    {
     "data": {
      "text/plain": [
       "2"
      ]
     },
     "execution_count": 24,
     "metadata": {},
     "output_type": "execute_result"
    }
   ],
   "source": [
    "len(A)"
   ]
  },
  {
   "cell_type": "code",
   "execution_count": 25,
   "id": "potential-license",
   "metadata": {},
   "outputs": [
    {
     "data": {
      "text/plain": [
       "3"
      ]
     },
     "execution_count": 25,
     "metadata": {},
     "output_type": "execute_result"
    }
   ],
   "source": [
    "len(A[0])"
   ]
  },
  {
   "cell_type": "code",
   "execution_count": 26,
   "id": "electric-tender",
   "metadata": {},
   "outputs": [
    {
     "data": {
      "text/plain": [
       "[1, 2, 3]"
      ]
     },
     "execution_count": 26,
     "metadata": {},
     "output_type": "execute_result"
    }
   ],
   "source": [
    "A[0]"
   ]
  },
  {
   "cell_type": "code",
   "execution_count": 27,
   "id": "excited-haiti",
   "metadata": {},
   "outputs": [
    {
     "data": {
      "text/plain": [
       "(3, 3)"
      ]
     },
     "execution_count": 27,
     "metadata": {},
     "output_type": "execute_result"
    }
   ],
   "source": [
    "shape([[1, 2, 3], [4, 5, 6], [7, 8, 9]])"
   ]
  },
  {
   "cell_type": "markdown",
   "id": "danish-spotlight",
   "metadata": {},
   "source": [
    "If a matrix has *n* rows and *k* columns, we will refer to it as an *n* x *k* *matrix*. We can (and sometimes will) think of each row of an *n* x *k* matrix as a vector of length *k*, and each column as a vector of length *n*:"
   ]
  },
  {
   "cell_type": "code",
   "execution_count": 28,
   "id": "cathedral-backup",
   "metadata": {},
   "outputs": [],
   "source": [
    "def get_row(A: Matrix, i: int) -> vector:\n",
    "    \"\"\"Returns the i-th row of A (as a vector)\"\"\"\n",
    "    return A[i]                # A[i] is already the ith row\n",
    "\n",
    "\n",
    "def get_column(A: Matrix, j: int) -> vector:\n",
    "    \"\"\"Returns the j-th column of A (as a vector)\"\"\"\n",
    "    return [A_i[j]               # jth element of row A_i\n",
    "            for A_i in A]        # for each row A_i             \n"
   ]
  },
  {
   "cell_type": "markdown",
   "id": "black-astronomy",
   "metadata": {},
   "source": [
    "We'll also want to be able to create a matrix given its shape and a function for generating its elements. We can do this using a nested list comprehension:"
   ]
  },
  {
   "cell_type": "code",
   "execution_count": 29,
   "id": "vulnerable-landscape",
   "metadata": {},
   "outputs": [],
   "source": [
    "from typing import Callable\n",
    "\n",
    "def make_matrix(num_rows: int,\n",
    "                num_cols: int,\n",
    "                entry_fn: Callable[[int, int], float]) -> Matrix:\n",
    "    \"\"\"Returns a num_rows x num_cols matrix\n",
    "        whose (i,j)-th entry is entry_fn(i, j)\n",
    "    \"\"\"\n",
    "    return [[entry_fn(i, j)              # given i, create a list\n",
    "            for j in range(num_cols)]    # [entry_fn(i,0), ...]\n",
    "           for i in range(num_rows)]     # create one list for each i"
   ]
  },
  {
   "cell_type": "markdown",
   "id": "southeast-wagon",
   "metadata": {},
   "source": [
    "Given this function, you could make a 5x5 *identity matrix* (with 1s on the diagonal and 0s elsewhere) like so:"
   ]
  },
  {
   "cell_type": "code",
   "execution_count": 30,
   "id": "ahead-annex",
   "metadata": {},
   "outputs": [],
   "source": [
    "def identity_matrix(n: int) -> Matrix:\n",
    "    \"\"\"Returns the n x n identity matrix\"\"\"\n",
    "    return make_matrix(n, n, lambda i, j: 1 if i == j else 0)"
   ]
  },
  {
   "cell_type": "code",
   "execution_count": 31,
   "id": "positive-insured",
   "metadata": {},
   "outputs": [
    {
     "data": {
      "text/plain": [
       "[[1, 0, 0, 0, 0],\n",
       " [0, 1, 0, 0, 0],\n",
       " [0, 0, 1, 0, 0],\n",
       " [0, 0, 0, 1, 0],\n",
       " [0, 0, 0, 0, 1]]"
      ]
     },
     "execution_count": 31,
     "metadata": {},
     "output_type": "execute_result"
    }
   ],
   "source": [
    "identity_matrix(5)"
   ]
  },
  {
   "cell_type": "markdown",
   "id": "prepared-armor",
   "metadata": {},
   "source": [
    "Matrices will be important for several reasons.\n",
    "\n",
    "First, we can use a matrix to represent a dataset consisting of multiple vectors, simply by considering each vector as a row of the Matrix. For example, if you had the heights, weights, and ages of 1,000 people, you could put them in a 1,000 x 3 matrix:"
   ]
  },
  {
   "cell_type": "code",
   "execution_count": 32,
   "id": "major-barbados",
   "metadata": {},
   "outputs": [],
   "source": [
    "data = [[70, 170, 40],\n",
    "        [65, 120, 26],\n",
    "        [77, 250, 19],\n",
    "        # ...\n",
    "       ]"
   ]
  },
  {
   "cell_type": "markdown",
   "id": "blind-coordination",
   "metadata": {},
   "source": [
    "Second, as we will see later, we can use an *n*x*k* matrix to represent a linear function that maps *k*-dimensional vectors. Several of our techniques and concepts will involve such functions.\n",
    "\n",
    "Third, matrices can be used to represent binary relationships. In Chapter 1, we represented the edges of a network as a collection of pairs **(i, j)**. An alternative representation would be to create a matrix **A** such that **A[i] [j]** is 1 if nodes **i** and **j** are connected and 0 otherwise.\n",
    "\n",
    "Recall that before we had:"
   ]
  },
  {
   "cell_type": "code",
   "execution_count": 1,
   "id": "divided-milton",
   "metadata": {},
   "outputs": [],
   "source": [
    "friendships = [(0,1),(0,2),(1,2),(1,3),(2,3),(3,4),\n",
    "               (4,5),(5,6),(5,7),(6,8),(7,8),(8,9)]"
   ]
  },
  {
   "cell_type": "markdown",
   "id": "compatible-means",
   "metadata": {},
   "source": [
    "We could also represent this as:"
   ]
  },
  {
   "cell_type": "code",
   "execution_count": 2,
   "id": "continuing-construction",
   "metadata": {},
   "outputs": [],
   "source": [
    "# user 0 1 2 3 4 5 6 7 8 9\n",
    "\n",
    "friend_matrix = [[0, 1, 1, 0, 0, 0, 0, 0, 0, 0], # user 0\n",
    "                 [1, 0, 1, 1, 0, 0, 0, 0, 0, 0], # user 1\n",
    "                 [1, 1, 0, 1, 0, 0, 0, 0, 0, 0], # user 2\n",
    "                 [0, 1, 1, 0, 1, 0, 0, 0, 0, 0], # user 3 \n",
    "                 [0, 0, 0, 1, 0, 0, 0, 0, 0, 0], # user 4\n",
    "                 [0, 0, 0, 0, 1, 0, 1, 1, 0, 0], # user 5\n",
    "                 [0, 0, 0, 0, 0, 1, 0, 0, 1, 0], # user 6\n",
    "                 [0, 0, 0, 0, 0, 1, 0, 0, 1, 0], # user 7\n",
    "                 [0, 0, 0, 0, 0, 0, 1, 1, 0, 1], # user 8\n",
    "                 [0, 0, 0, 0, 0, 0, 0, 0, 1, 0]] # user 9"
   ]
  },
  {
   "cell_type": "markdown",
   "id": "sensitive-hopkins",
   "metadata": {},
   "source": [
    "If there are very few connections, this is a much more ineffecient representation, since you end up having to store a lot of zeros.\n",
    "However, with the matrix representation it is much quicker to check whether two nodes are connected - you just have to do a matrix lokup instead of (potentially) inspecting every edge:"
   ]
  },
  {
   "cell_type": "code",
   "execution_count": 6,
   "id": "bigger-hundred",
   "metadata": {},
   "outputs": [],
   "source": [
    "assert friend_matrix[0][2] == 1, \"0 and 2 are friends\"\n",
    "assert friend_matrix[0][8] == 0, \"0 and 8 are not friends\""
   ]
  },
  {
   "cell_type": "markdown",
   "id": "placed-morgan",
   "metadata": {},
   "source": [
    "Similarly, to find a node's connections, you only need to inspect the column (or the row) corresponding to that node:"
   ]
  },
  {
   "cell_type": "code",
   "execution_count": 7,
   "id": "apparent-dinner",
   "metadata": {},
   "outputs": [],
   "source": [
    "# Only need to look at one row\n",
    "\n",
    "friends_of_five = [i for i, is_friend in enumerate(friend_matrix[5])\n",
    "                      if is_friend]"
   ]
  },
  {
   "cell_type": "code",
   "execution_count": 8,
   "id": "concrete-entity",
   "metadata": {},
   "outputs": [
    {
     "data": {
      "text/plain": [
       "[4, 6, 7]"
      ]
     },
     "execution_count": 8,
     "metadata": {},
     "output_type": "execute_result"
    }
   ],
   "source": [
    "friends_of_five"
   ]
  },
  {
   "cell_type": "code",
   "execution_count": null,
   "id": "breathing-pasta",
   "metadata": {},
   "outputs": [],
   "source": []
  }
 ],
 "metadata": {
  "hide_input": false,
  "kernelspec": {
   "display_name": "Python 3",
   "language": "python",
   "name": "python3"
  },
  "language_info": {
   "codemirror_mode": {
    "name": "ipython",
    "version": 3
   },
   "file_extension": ".py",
   "mimetype": "text/x-python",
   "name": "python",
   "nbconvert_exporter": "python",
   "pygments_lexer": "ipython3",
   "version": "3.9.2"
  }
 },
 "nbformat": 4,
 "nbformat_minor": 5
}

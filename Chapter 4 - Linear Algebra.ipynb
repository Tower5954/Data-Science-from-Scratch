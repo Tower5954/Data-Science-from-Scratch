{
 "cells": [
  {
   "cell_type": "markdown",
   "id": "understood-bibliography",
   "metadata": {},
   "source": [
    "*Is there anything more useless or less usefull than algebra?* \\\n",
    "*- Billy Connoly*"
   ]
  },
  {
   "cell_type": "markdown",
   "id": "personalized-queue",
   "metadata": {},
   "source": [
    "Linear Algebra is the branch of mathematics that deals with *vector spaces* "
   ]
  },
  {
   "cell_type": "markdown",
   "id": "editorial-impression",
   "metadata": {},
   "source": [
    "# Vectors"
   ]
  },
  {
   "cell_type": "markdown",
   "id": "relevant-lawsuit",
   "metadata": {},
   "source": [
    "Abstractly, *vectors* are objects that can be added together to form new vectors and that can be multiplied by *scalars* (i.e, numbers, also to form new vectors)."
   ]
  },
  {
   "cell_type": "markdown",
   "id": "hungry-runner",
   "metadata": {},
   "source": [
    "Concretely (for us), vectors are points in some finite-dimensional space. Although we might not think of our data as vectors, they are often a useful way to represent numeric data."
   ]
  },
  {
   "cell_type": "markdown",
   "id": "silent-accuracy",
   "metadata": {},
   "source": [
    "For example, if you have the heights, weights, and ages of a large number of people, you can treat your data as three-dimensional vectors [height, weight, age].\n",
    "If you are teaching a class with four exams, you can treat student grades as four-dimensional vectors [exam1, exam2, exam3, exam4]"
   ]
  },
  {
   "cell_type": "markdown",
   "id": "overhead-witness",
   "metadata": {},
   "source": [
    "The simplest form-scratch approach is to represent vectors as lists of numbers. A list of three numbers corresponds to a vector in three-dimensional space, and vice versa.\n"
   ]
  },
  {
   "cell_type": "markdown",
   "id": "artistic-consent",
   "metadata": {},
   "source": [
    "We will accomplish this with a type alias that says a Vector is just a list of floats:"
   ]
  },
  {
   "cell_type": "code",
   "execution_count": 1,
   "id": "assured-credit",
   "metadata": {},
   "outputs": [],
   "source": [
    "from typing import List\n",
    "\n",
    "vector = List[float]\n",
    "\n",
    "height_weight_age = [70, # inches\n",
    "                     170, # pounds\n",
    "                     40] # years\n",
    "\n",
    "grades = [95, # exam1\n",
    "          80, # exam2\n",
    "          75, # exam3\n",
    "          62,] # exam4\n"
   ]
  },
  {
   "cell_type": "markdown",
   "id": "unusual-separate",
   "metadata": {},
   "source": [
    "We will also want to perform *arithmetic* on vectors. Because Python `list` aren't vectors (and hence provide no facilities for vector arithmetic), \n",
    "we will need to build these arithmetic tools ourselves."
   ]
  },
  {
   "cell_type": "markdown",
   "id": "contemporary-endorsement",
   "metadata": {},
   "source": [
    "To begin with, we will frequently need to add two vectors. Vectors add *componentwise*.\n",
    "This means that if two vectors v and w are the same length, their sum is just the vector whose first element is v[0] + w[0], who's second element is v[1] + w[1] and so on.\n",
    "(If they are not the same length then we can not add them)."
   ]
  },
  {
   "cell_type": "markdown",
   "id": "latest-audio",
   "metadata": {},
   "source": [
    "For example, adding the vectors [1, 2] and [2, 1] results in [1 + 2,  2 + 1] or [3, 3]."
   ]
  },
  {
   "cell_type": "markdown",
   "id": "casual-desperate",
   "metadata": {},
   "source": [
    "We can easily do this by zipping them together and using list comprehension to add the corresponding elements:\n",
    "    "
   ]
  },
  {
   "cell_type": "code",
   "execution_count": 2,
   "id": "false-carpet",
   "metadata": {},
   "outputs": [],
   "source": [
    "def add(v: vector, w: vector) -> vector:\n",
    "    \"\"\" Adds corresponding elements\"\"\"\n",
    "    assert len(v) == len(w), \"Vectors must be the same length\"\n",
    "    return [v_i + w_i for v_i, w_i in zip(v, w)]\n",
    "assert add ([1, 2, 3], [4, 5, 6]) == [5, 7, 9]"
   ]
  },
  {
   "cell_type": "code",
   "execution_count": 3,
   "id": "genetic-location",
   "metadata": {},
   "outputs": [
    {
     "data": {
      "text/plain": [
       "[5, 7, 9]"
      ]
     },
     "execution_count": 3,
     "metadata": {},
     "output_type": "execute_result"
    }
   ],
   "source": [
    "add([1, 2, 3], [4, 5, 6])"
   ]
  },
  {
   "cell_type": "code",
   "execution_count": 4,
   "id": "north-romania",
   "metadata": {},
   "outputs": [],
   "source": [
    "def subtract(v: vector, w: vector) -> vector:\n",
    "    \"\"\"Subtracts corresponding elements\"\"\"\n",
    "    assert len(v) == len(w), \"vectors must be the same length\"\n",
    "    return [v_i - w_i for v_i, w_i in zip(v, w)]\n",
    "\n",
    "assert subtract([5, 7, 9], [4, 5, 6]) == [1, 2, 3]"
   ]
  },
  {
   "cell_type": "code",
   "execution_count": 5,
   "id": "straight-stretch",
   "metadata": {},
   "outputs": [
    {
     "data": {
      "text/plain": [
       "[1, 2, 3]"
      ]
     },
     "execution_count": 5,
     "metadata": {},
     "output_type": "execute_result"
    }
   ],
   "source": [
    "subtract([5, 7, 9], [4, 5, 6])"
   ]
  },
  {
   "cell_type": "markdown",
   "id": "early-feeling",
   "metadata": {},
   "source": [
    "We will sometimes want to componentwise sum a list of vectors - that is - create a new vector whose first element is the sum of all the first elements, whose second element is the sum of all the second elements, and so on:\n",
    "    "
   ]
  },
  {
   "cell_type": "code",
   "execution_count": 6,
   "id": "finnish-biology",
   "metadata": {},
   "outputs": [],
   "source": [
    "def vector_sum(vectors: list[vector]) -> vector:\n",
    "    \"\"\"Sums all corresponding elements\"\"\"\n",
    "    # Check that vectors is not empty\n",
    "    assert vectors, \"no vectors provided\"\n",
    "    \n",
    "    # Check the vectors are all the same size\n",
    "    num_elements = len(vectors[0])\n",
    "    assert all(len(v) == num_elements for v in vectors), \"different sizes\"\n",
    "    \n",
    "    # the i-th element of the result is the sum of every vector[i]\n",
    "    return [sum(vector[i] for vector in vectors)\n",
    "           for i in range(num_elements)]\n",
    "\n",
    "assert vector_sum([[1, 2], [3, 4], [5, 6], [7, 8]]) == [16, 20]"
   ]
  },
  {
   "cell_type": "code",
   "execution_count": 7,
   "id": "voluntary-actor",
   "metadata": {},
   "outputs": [
    {
     "data": {
      "text/plain": [
       "[16, 20]"
      ]
     },
     "execution_count": 7,
     "metadata": {},
     "output_type": "execute_result"
    }
   ],
   "source": [
    "vector_sum([[1, 2], [3, 4], [5, 6], [7, 8]])"
   ]
  },
  {
   "cell_type": "markdown",
   "id": "applied-absorption",
   "metadata": {},
   "source": [
    "We will also need to be able to multiply a vector by a scalar, which we do simply by multiplying each element of the vector by that number:"
   ]
  },
  {
   "cell_type": "code",
   "execution_count": 9,
   "id": "jewish-tiffany",
   "metadata": {},
   "outputs": [],
   "source": [
    "def scalar_multiply(c: float, v: vector) -> vector:\n",
    "    \"\"\"Multiplies every element by c\"\"\"\n",
    "    return [c * v_i for v_i in v]\n",
    "\n",
    "assert scalar_multiply(2, [1, 2, 3]) == [2, 4, 6]"
   ]
  },
  {
   "cell_type": "code",
   "execution_count": 10,
   "id": "precise-morning",
   "metadata": {},
   "outputs": [
    {
     "data": {
      "text/plain": [
       "[2, 4, 6]"
      ]
     },
     "execution_count": 10,
     "metadata": {},
     "output_type": "execute_result"
    }
   ],
   "source": [
    "scalar_multiply(2, [1, 2, 3])"
   ]
  },
  {
   "cell_type": "markdown",
   "id": "infectious-memorial",
   "metadata": {},
   "source": [
    "This allows us to compute the componentwise means of a list of (same-sized) vectors:\n",
    "    "
   ]
  },
  {
   "cell_type": "code",
   "execution_count": 12,
   "id": "ceramic-heater",
   "metadata": {},
   "outputs": [],
   "source": [
    "def vector_mean(vectors: List[vector]) -> vector:\n",
    "    \"\"\"Computes the element-wise average\"\"\"\n",
    "    n = len(vectors)\n",
    "    return scalar_multiply(1/n, vector_sum(vectors))\n",
    "\n",
    "assert vector_mean([[1, 2], [3, 4], [5, 6]]) == [3, 4]"
   ]
  },
  {
   "cell_type": "code",
   "execution_count": 14,
   "id": "numeric-marshall",
   "metadata": {},
   "outputs": [
    {
     "data": {
      "text/plain": [
       "[3.0, 4.0]"
      ]
     },
     "execution_count": 14,
     "metadata": {},
     "output_type": "execute_result"
    }
   ],
   "source": [
    "vector_mean([[1, 2], [3, 4], [5, 6]])"
   ]
  },
  {
   "cell_type": "markdown",
   "id": "matched-satin",
   "metadata": {},
   "source": [
    "A less obvious tool is the *dot product*. The dot product of two vectors is the sum of their componentwise products:"
   ]
  },
  {
   "cell_type": "code",
   "execution_count": 21,
   "id": "moved-drilling",
   "metadata": {},
   "outputs": [],
   "source": [
    "def dot(v: vector, w: vector) -> float:\n",
    "    \"\"\"Computes v_i * w_i + ... + v_n * w_n\"\"\"\n",
    "    assert len(v) == len(w), \"vectors must be same length\"\n",
    "    \n",
    "    return sum(v_i * w_i for v_i, w_i in zip(v, w))\n",
    "\n",
    "assert dot([1, 2, 3], [4, 5, 6]) == 32 # 1 * 4 + 2 * 5 + 3 * 6"
   ]
  },
  {
   "cell_type": "code",
   "execution_count": 22,
   "id": "scientific-pioneer",
   "metadata": {},
   "outputs": [
    {
     "data": {
      "text/plain": [
       "32"
      ]
     },
     "execution_count": 22,
     "metadata": {},
     "output_type": "execute_result"
    }
   ],
   "source": [
    "dot([1, 2, 3], [4, 5, 6])"
   ]
  },
  {
   "cell_type": "code",
   "execution_count": 23,
   "id": "correct-haven",
   "metadata": {},
   "outputs": [
    {
     "ename": "AssertionError",
     "evalue": "vectors must be same length",
     "output_type": "error",
     "traceback": [
      "\u001b[1;31m---------------------------------------------------------------------------\u001b[0m",
      "\u001b[1;31mAssertionError\u001b[0m                            Traceback (most recent call last)",
      "\u001b[1;32m<ipython-input-23-5b17913502b1>\u001b[0m in \u001b[0;36m<module>\u001b[1;34m\u001b[0m\n\u001b[1;32m----> 1\u001b[1;33m \u001b[0mdot\u001b[0m\u001b[1;33m(\u001b[0m\u001b[1;33m[\u001b[0m\u001b[1;36m1\u001b[0m\u001b[1;33m,\u001b[0m \u001b[1;36m2\u001b[0m\u001b[1;33m,\u001b[0m \u001b[1;36m3\u001b[0m\u001b[1;33m]\u001b[0m\u001b[1;33m,\u001b[0m \u001b[1;33m[\u001b[0m\u001b[1;36m4\u001b[0m\u001b[1;33m,\u001b[0m \u001b[1;36m5\u001b[0m \u001b[1;33m]\u001b[0m\u001b[1;33m)\u001b[0m\u001b[1;33m\u001b[0m\u001b[1;33m\u001b[0m\u001b[0m\n\u001b[0m",
      "\u001b[1;32m<ipython-input-21-338bc91cd597>\u001b[0m in \u001b[0;36mdot\u001b[1;34m(v, w)\u001b[0m\n\u001b[0;32m      1\u001b[0m \u001b[1;32mdef\u001b[0m \u001b[0mdot\u001b[0m\u001b[1;33m(\u001b[0m\u001b[0mv\u001b[0m\u001b[1;33m:\u001b[0m \u001b[0mvector\u001b[0m\u001b[1;33m,\u001b[0m \u001b[0mw\u001b[0m\u001b[1;33m:\u001b[0m \u001b[0mvector\u001b[0m\u001b[1;33m)\u001b[0m \u001b[1;33m->\u001b[0m \u001b[0mfloat\u001b[0m\u001b[1;33m:\u001b[0m\u001b[1;33m\u001b[0m\u001b[1;33m\u001b[0m\u001b[0m\n\u001b[0;32m      2\u001b[0m     \u001b[1;34m\"\"\"Computes v_i * w_i + ... + v_n * w_n\"\"\"\u001b[0m\u001b[1;33m\u001b[0m\u001b[1;33m\u001b[0m\u001b[0m\n\u001b[1;32m----> 3\u001b[1;33m     \u001b[1;32massert\u001b[0m \u001b[0mlen\u001b[0m\u001b[1;33m(\u001b[0m\u001b[0mv\u001b[0m\u001b[1;33m)\u001b[0m \u001b[1;33m==\u001b[0m \u001b[0mlen\u001b[0m\u001b[1;33m(\u001b[0m\u001b[0mw\u001b[0m\u001b[1;33m)\u001b[0m\u001b[1;33m,\u001b[0m \u001b[1;34m\"vectors must be same length\"\u001b[0m\u001b[1;33m\u001b[0m\u001b[1;33m\u001b[0m\u001b[0m\n\u001b[0m\u001b[0;32m      4\u001b[0m \u001b[1;33m\u001b[0m\u001b[0m\n\u001b[0;32m      5\u001b[0m     \u001b[1;32mreturn\u001b[0m \u001b[0msum\u001b[0m\u001b[1;33m(\u001b[0m\u001b[0mv_i\u001b[0m \u001b[1;33m*\u001b[0m \u001b[0mw_i\u001b[0m \u001b[1;32mfor\u001b[0m \u001b[0mv_i\u001b[0m\u001b[1;33m,\u001b[0m \u001b[0mw_i\u001b[0m \u001b[1;32min\u001b[0m \u001b[0mzip\u001b[0m\u001b[1;33m(\u001b[0m\u001b[0mv\u001b[0m\u001b[1;33m,\u001b[0m \u001b[0mw\u001b[0m\u001b[1;33m)\u001b[0m\u001b[1;33m)\u001b[0m\u001b[1;33m\u001b[0m\u001b[1;33m\u001b[0m\u001b[0m\n",
      "\u001b[1;31mAssertionError\u001b[0m: vectors must be same length"
     ]
    }
   ],
   "source": [
    "dot([1, 2, 3], [4, 5 ])"
   ]
  },
  {
   "cell_type": "markdown",
   "id": "middle-pound",
   "metadata": {},
   "source": [
    "If w has magnitude 1, the dot product measures how far the vector v extends in the w direction."
   ]
  },
  {
   "cell_type": "markdown",
   "id": "complete-character",
   "metadata": {},
   "source": [
    "For example, if w = [1, 0], then `dot(v, w)` is just the first component of v."
   ]
  },
  {
   "cell_type": "markdown",
   "id": "generic-portsmouth",
   "metadata": {},
   "source": [
    "Another way of saying this is that it's the length of the vector you would get if you projected v onto w."
   ]
  },
  {
   "cell_type": "code",
   "execution_count": null,
   "id": "aboriginal-creation",
   "metadata": {},
   "outputs": [],
   "source": []
  }
 ],
 "metadata": {
  "hide_input": false,
  "kernelspec": {
   "display_name": "Python 3",
   "language": "python",
   "name": "python3"
  },
  "language_info": {
   "codemirror_mode": {
    "name": "ipython",
    "version": 3
   },
   "file_extension": ".py",
   "mimetype": "text/x-python",
   "name": "python",
   "nbconvert_exporter": "python",
   "pygments_lexer": "ipython3",
   "version": "3.9.2"
  }
 },
 "nbformat": 4,
 "nbformat_minor": 5
}

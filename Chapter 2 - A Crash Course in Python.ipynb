{
 "cells": [
  {
   "cell_type": "markdown",
   "id": "employed-brazilian",
   "metadata": {},
   "source": [
    "# The Zen of Python\n",
    "\n",
    "Python has a somewhat Zen description of its design principles (https://legacy.python.org/dev/peps/pep-0020/), which you can find inside the Python interpreter by typing:"
   ]
  },
  {
   "cell_type": "code",
   "execution_count": 1,
   "id": "boring-burton",
   "metadata": {},
   "outputs": [
    {
     "name": "stdout",
     "output_type": "stream",
     "text": [
      "The Zen of Python, by Tim Peters\n",
      "\n",
      "Beautiful is better than ugly.\n",
      "Explicit is better than implicit.\n",
      "Simple is better than complex.\n",
      "Complex is better than complicated.\n",
      "Flat is better than nested.\n",
      "Sparse is better than dense.\n",
      "Readability counts.\n",
      "Special cases aren't special enough to break the rules.\n",
      "Although practicality beats purity.\n",
      "Errors should never pass silently.\n",
      "Unless explicitly silenced.\n",
      "In the face of ambiguity, refuse the temptation to guess.\n",
      "There should be one-- and preferably only one --obvious way to do it.\n",
      "Although that way may not be obvious at first unless you're Dutch.\n",
      "Now is better than never.\n",
      "Although never is often better than *right* now.\n",
      "If the implementation is hard to explain, it's a bad idea.\n",
      "If the implementation is easy to explain, it may be a good idea.\n",
      "Namespaces are one honking great idea -- let's do more of those!\n"
     ]
    }
   ],
   "source": [
    "import this"
   ]
  },
  {
   "cell_type": "markdown",
   "id": "reported-meaning",
   "metadata": {},
   "source": [
    "One of the most discussed of these is:\\\n",
    "     *There should be one-- and preferably only one --obvious way to do it.*\\\n",
    "Code written in accordance with this \"obvious\" way is often described as \"Pythonic\"."
   ]
  },
  {
   "cell_type": "markdown",
   "id": "korean-membrane",
   "metadata": {},
   "source": [
    "## Virtual Environments\n",
    "\n",
    "To create an (Anaconda) virtual environment, you must do the following:"
   ]
  },
  {
   "cell_type": "markdown",
   "id": "pretty-recording",
   "metadata": {},
   "source": [
    "To create a python 3.6 environment named \"dsfs\"\n",
    "\n",
    "conda create -n dsfs python=3.6"
   ]
  },
  {
   "cell_type": "markdown",
   "id": "legislative-vocabulary",
   "metadata": {},
   "source": [
    "Follow the prompts, and you will have a virtual environment called \"dsfs\", with the instructions:"
   ]
  },
  {
   "cell_type": "code",
   "execution_count": 2,
   "id": "solid-space",
   "metadata": {},
   "outputs": [],
   "source": [
    "#\n",
    "# To activate this environment, use\n",
    "# > source activate dsfs\n",
    "# \n",
    "# To deactivate an active environment, use\n",
    "# > source deactivate\n",
    "#"
   ]
  },
  {
   "cell_type": "markdown",
   "id": "western-december",
   "metadata": {},
   "source": [
    "As indicated, you then activate the environment using:"
   ]
  },
  {
   "cell_type": "markdown",
   "id": "wooden-talent",
   "metadata": {},
   "source": [
    " source activate dsfs"
   ]
  },
  {
   "cell_type": "markdown",
   "id": "surface-finding",
   "metadata": {},
   "source": [
    "## Functions"
   ]
  },
  {
   "cell_type": "markdown",
   "id": "elder-bacteria",
   "metadata": {},
   "source": [
    "A function is a rule for taking zero or more inputs and returning a corresponding output.\\\n",
    "In Python, we typically define a function using def:"
   ]
  },
  {
   "cell_type": "code",
   "execution_count": 3,
   "id": "potential-identification",
   "metadata": {},
   "outputs": [],
   "source": [
    "def double(x):\n",
    "    \"\"\"\n",
    "    This is where you put an optional docstring that explains what the\n",
    "    function does. For example, this function multiplies its input by 2\n",
    "    \n",
    "    \"\"\"\n",
    "    \n",
    "    return x * 2"
   ]
  },
  {
   "cell_type": "code",
   "execution_count": 4,
   "id": "overall-freeware",
   "metadata": {},
   "outputs": [
    {
     "data": {
      "text/plain": [
       "20"
      ]
     },
     "execution_count": 4,
     "metadata": {},
     "output_type": "execute_result"
    }
   ],
   "source": [
    "double(10)"
   ]
  },
  {
   "cell_type": "code",
   "execution_count": 5,
   "id": "outer-testament",
   "metadata": {},
   "outputs": [
    {
     "data": {
      "text/plain": [
       "118"
      ]
     },
     "execution_count": 5,
     "metadata": {},
     "output_type": "execute_result"
    }
   ],
   "source": [
    "double(59)"
   ]
  },
  {
   "cell_type": "markdown",
   "id": "distinguished-battle",
   "metadata": {},
   "source": [
    "Python functions are *first-class*, which means that we can assign them to variables and pass them into functions just like any other arguments:"
   ]
  },
  {
   "cell_type": "code",
   "execution_count": 6,
   "id": "confirmed-slovak",
   "metadata": {},
   "outputs": [],
   "source": [
    "def apply_to_one(f):\n",
    "    return f(1)\n",
    "\n",
    "my_double = double                       # refers to the previously defined function\n",
    "x = apply_to_one(my_double)              # equals 2"
   ]
  },
  {
   "cell_type": "code",
   "execution_count": 7,
   "id": "dated-polls",
   "metadata": {},
   "outputs": [
    {
     "data": {
      "text/plain": [
       "2"
      ]
     },
     "execution_count": 7,
     "metadata": {},
     "output_type": "execute_result"
    }
   ],
   "source": [
    "x"
   ]
  },
  {
   "cell_type": "markdown",
   "id": "aware-fetish",
   "metadata": {},
   "source": [
    "It is also easy to create short anonymous functions, or *lambdas:*"
   ]
  },
  {
   "cell_type": "code",
   "execution_count": 8,
   "id": "distant-plumbing",
   "metadata": {},
   "outputs": [],
   "source": [
    "y = apply_to_one(lambda x: 2 * x)        # Dont do this"
   ]
  },
  {
   "cell_type": "code",
   "execution_count": 9,
   "id": "supported-uganda",
   "metadata": {},
   "outputs": [
    {
     "data": {
      "text/plain": [
       "2"
      ]
     },
     "execution_count": 9,
     "metadata": {},
     "output_type": "execute_result"
    }
   ],
   "source": [
    "y"
   ]
  },
  {
   "cell_type": "code",
   "execution_count": 10,
   "id": "handled-poison",
   "metadata": {},
   "outputs": [],
   "source": [
    "def another_double(x):\n",
    "    \"\"\" Do this instead\"\"\"\n",
    "    return 2 * x"
   ]
  },
  {
   "cell_type": "code",
   "execution_count": 11,
   "id": "middle-sullivan",
   "metadata": {},
   "outputs": [
    {
     "data": {
      "text/plain": [
       "4"
      ]
     },
     "execution_count": 11,
     "metadata": {},
     "output_type": "execute_result"
    }
   ],
   "source": [
    "another_double(2)"
   ]
  },
  {
   "cell_type": "code",
   "execution_count": 12,
   "id": "attached-mixture",
   "metadata": {},
   "outputs": [
    {
     "data": {
      "text/plain": [
       "48"
      ]
     },
     "execution_count": 12,
     "metadata": {},
     "output_type": "execute_result"
    }
   ],
   "source": [
    "another_double(24)"
   ]
  },
  {
   "cell_type": "markdown",
   "id": "adopted-addiction",
   "metadata": {},
   "source": [
    "Function parameters can also be given default arguments, which only need to be specified when you want a value other than the default:"
   ]
  },
  {
   "cell_type": "code",
   "execution_count": 13,
   "id": "accepting-limitation",
   "metadata": {},
   "outputs": [],
   "source": [
    "def my_print(message = \"my default message\"):\n",
    "    print(message)"
   ]
  },
  {
   "cell_type": "code",
   "execution_count": 16,
   "id": "unsigned-travel",
   "metadata": {},
   "outputs": [
    {
     "name": "stdout",
     "output_type": "stream",
     "text": [
      "hello\n"
     ]
    }
   ],
   "source": [
    "my_print(\"hello\")"
   ]
  },
  {
   "cell_type": "code",
   "execution_count": 15,
   "id": "toxic-fleece",
   "metadata": {},
   "outputs": [
    {
     "name": "stdout",
     "output_type": "stream",
     "text": [
      "my default message\n"
     ]
    }
   ],
   "source": [
    "my_print()"
   ]
  },
  {
   "cell_type": "markdown",
   "id": "laden-david",
   "metadata": {},
   "source": [
    "It is sometimes useful to specify arguments by name:"
   ]
  },
  {
   "cell_type": "code",
   "execution_count": 17,
   "id": "noted-lucas",
   "metadata": {},
   "outputs": [],
   "source": [
    "def full_name(first = \"What's his name? \", last = \"Something\"):\n",
    "    return first + \" \" + last"
   ]
  },
  {
   "cell_type": "code",
   "execution_count": 18,
   "id": "activated-brown",
   "metadata": {},
   "outputs": [
    {
     "data": {
      "text/plain": [
       "'Grant Thompson'"
      ]
     },
     "execution_count": 18,
     "metadata": {},
     "output_type": "execute_result"
    }
   ],
   "source": [
    "full_name(\"Grant\", \"Thompson\")"
   ]
  },
  {
   "cell_type": "code",
   "execution_count": 19,
   "id": "extra-pierre",
   "metadata": {},
   "outputs": [
    {
     "data": {
      "text/plain": [
       "'Grant Something'"
      ]
     },
     "execution_count": 19,
     "metadata": {},
     "output_type": "execute_result"
    }
   ],
   "source": [
    "full_name(\"Grant\")"
   ]
  },
  {
   "cell_type": "code",
   "execution_count": 21,
   "id": "interpreted-robert",
   "metadata": {},
   "outputs": [
    {
     "data": {
      "text/plain": [
       "\"What's his name?  Thompson\""
      ]
     },
     "execution_count": 21,
     "metadata": {},
     "output_type": "execute_result"
    }
   ],
   "source": [
    "full_name(last = \"Thompson\")"
   ]
  },
  {
   "cell_type": "markdown",
   "id": "italic-tsunami",
   "metadata": {},
   "source": [
    "## Exceptions\n",
    "\n",
    "When something goes wrong, Python raises an *exception.* Unhandled, exceptions will cause your programme to crash. You can handle them using `try` and `except` :"
   ]
  },
  {
   "cell_type": "code",
   "execution_count": 22,
   "id": "developed-level",
   "metadata": {},
   "outputs": [
    {
     "name": "stdout",
     "output_type": "stream",
     "text": [
      "Cannot divide by zero\n"
     ]
    }
   ],
   "source": [
    "try:\n",
    "    print(0 / 0)\n",
    "except ZeroDivisionError:\n",
    "    print(\"Cannot divide by zero\")"
   ]
  },
  {
   "cell_type": "markdown",
   "id": "daily-appeal",
   "metadata": {},
   "source": [
    "## Lists\n",
    "\n",
    "Probably the most fundamental data structure in Python is the `list`, which is simply an ordered collection (it is similar to what other languages may call an `array`, but with some added functionality):"
   ]
  },
  {
   "cell_type": "code",
   "execution_count": 23,
   "id": "experimental-wilderness",
   "metadata": {},
   "outputs": [],
   "source": [
    "integer_list = [1, 2, 3]\n",
    "heterogeneous_list = [\"string\", 0.1, True]\n",
    "list_of_list = [integer_list, heterogeneous_list, []]"
   ]
  },
  {
   "cell_type": "code",
   "execution_count": 24,
   "id": "understood-threat",
   "metadata": {},
   "outputs": [],
   "source": [
    "list_length = len(integer_list)  # Sould equal 3"
   ]
  },
  {
   "cell_type": "code",
   "execution_count": 25,
   "id": "given-twelve",
   "metadata": {},
   "outputs": [
    {
     "data": {
      "text/plain": [
       "3"
      ]
     },
     "execution_count": 25,
     "metadata": {},
     "output_type": "execute_result"
    }
   ],
   "source": [
    "list_length"
   ]
  },
  {
   "cell_type": "code",
   "execution_count": 26,
   "id": "early-flour",
   "metadata": {},
   "outputs": [],
   "source": [
    "list_sum = sum(integer_list)  # should equal 6"
   ]
  },
  {
   "cell_type": "code",
   "execution_count": 27,
   "id": "postal-standing",
   "metadata": {},
   "outputs": [
    {
     "data": {
      "text/plain": [
       "6"
      ]
     },
     "execution_count": 27,
     "metadata": {},
     "output_type": "execute_result"
    }
   ],
   "source": [
    "list_sum"
   ]
  },
  {
   "cell_type": "code",
   "execution_count": 28,
   "id": "apart-semiconductor",
   "metadata": {},
   "outputs": [],
   "source": [
    "more_integers = [1, 2, 3, 4, 5]"
   ]
  },
  {
   "cell_type": "code",
   "execution_count": 29,
   "id": "suburban-domain",
   "metadata": {},
   "outputs": [],
   "source": [
    "another_sum = sum(more_integers)"
   ]
  },
  {
   "cell_type": "code",
   "execution_count": 30,
   "id": "coordinated-holiday",
   "metadata": {},
   "outputs": [
    {
     "data": {
      "text/plain": [
       "15"
      ]
     },
     "execution_count": 30,
     "metadata": {},
     "output_type": "execute_result"
    }
   ],
   "source": [
    "another_sum"
   ]
  },
  {
   "cell_type": "markdown",
   "id": "continent-tomorrow",
   "metadata": {},
   "source": [
    "You can get the *n*th element of a list with square brackets:"
   ]
  },
  {
   "cell_type": "code",
   "execution_count": 31,
   "id": "tamil-token",
   "metadata": {},
   "outputs": [],
   "source": [
    "x = [0, 1, 2, 3, 4, 5, 6, 7, 8, 9]"
   ]
  },
  {
   "cell_type": "code",
   "execution_count": null,
   "id": "difficult-sheriff",
   "metadata": {},
   "outputs": [],
   "source": [
    "zero = x[0]  # Equals 0, lists"
   ]
  }
 ],
 "metadata": {
  "hide_input": false,
  "kernelspec": {
   "display_name": "Python 3",
   "language": "python",
   "name": "python3"
  },
  "language_info": {
   "codemirror_mode": {
    "name": "ipython",
    "version": 3
   },
   "file_extension": ".py",
   "mimetype": "text/x-python",
   "name": "python",
   "nbconvert_exporter": "python",
   "pygments_lexer": "ipython3",
   "version": "3.9.2"
  }
 },
 "nbformat": 4,
 "nbformat_minor": 5
}

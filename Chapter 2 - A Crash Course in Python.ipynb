{
 "cells": [
  {
   "cell_type": "markdown",
   "id": "employed-brazilian",
   "metadata": {},
   "source": [
    "# The Zen of Python\n",
    "\n",
    "Python has a somewhat Zen description of its design principles (https://legacy.python.org/dev/peps/pep-0020/), which you can find inside the Python interpreter by typing:"
   ]
  },
  {
   "cell_type": "code",
   "execution_count": 1,
   "id": "boring-burton",
   "metadata": {},
   "outputs": [
    {
     "name": "stdout",
     "output_type": "stream",
     "text": [
      "The Zen of Python, by Tim Peters\n",
      "\n",
      "Beautiful is better than ugly.\n",
      "Explicit is better than implicit.\n",
      "Simple is better than complex.\n",
      "Complex is better than complicated.\n",
      "Flat is better than nested.\n",
      "Sparse is better than dense.\n",
      "Readability counts.\n",
      "Special cases aren't special enough to break the rules.\n",
      "Although practicality beats purity.\n",
      "Errors should never pass silently.\n",
      "Unless explicitly silenced.\n",
      "In the face of ambiguity, refuse the temptation to guess.\n",
      "There should be one-- and preferably only one --obvious way to do it.\n",
      "Although that way may not be obvious at first unless you're Dutch.\n",
      "Now is better than never.\n",
      "Although never is often better than *right* now.\n",
      "If the implementation is hard to explain, it's a bad idea.\n",
      "If the implementation is easy to explain, it may be a good idea.\n",
      "Namespaces are one honking great idea -- let's do more of those!\n"
     ]
    }
   ],
   "source": [
    "import this"
   ]
  },
  {
   "cell_type": "markdown",
   "id": "reported-meaning",
   "metadata": {},
   "source": [
    "One of the most discussed of these is:\\\n",
    "     *There should be one-- and preferably only one --obvious way to do it.*\\\n",
    "Code written in accordance with this \"obvious\" way is often described as \"Pythonic\"."
   ]
  },
  {
   "cell_type": "markdown",
   "id": "korean-membrane",
   "metadata": {},
   "source": [
    "## Virtual Environments\n",
    "\n",
    "To create an (Anaconda) virtual environment, you must do the following:"
   ]
  },
  {
   "cell_type": "markdown",
   "id": "pretty-recording",
   "metadata": {},
   "source": [
    "To create a python 3.6 environment named \"dsfs\"\n",
    "\n",
    "conda create -n dsfs python=3.6"
   ]
  },
  {
   "cell_type": "markdown",
   "id": "legislative-vocabulary",
   "metadata": {},
   "source": [
    "Follow the prompts, and you will have a virtual environment called \"dsfs\", with the instructions:"
   ]
  },
  {
   "cell_type": "code",
   "execution_count": 1,
   "id": "solid-space",
   "metadata": {},
   "outputs": [],
   "source": [
    "#\n",
    "# To activate this environment, use\n",
    "# > source activate dsfs\n",
    "# \n",
    "# To deactivate an active environment, use\n",
    "# > source deactivate\n",
    "#"
   ]
  },
  {
   "cell_type": "markdown",
   "id": "western-december",
   "metadata": {},
   "source": [
    "As indicated, you then activate the environment using:"
   ]
  },
  {
   "cell_type": "markdown",
   "id": "wooden-talent",
   "metadata": {},
   "source": [
    " source activate dsfs"
   ]
  },
  {
   "cell_type": "markdown",
   "id": "surface-finding",
   "metadata": {},
   "source": [
    "## Functions"
   ]
  },
  {
   "cell_type": "markdown",
   "id": "elder-bacteria",
   "metadata": {},
   "source": [
    "A function is a rule for taking zero or more inputs and returning a corresponding output.\\\n",
    "In Python, we typically define a function using def:"
   ]
  },
  {
   "cell_type": "code",
   "execution_count": 2,
   "id": "potential-identification",
   "metadata": {},
   "outputs": [],
   "source": [
    "def double(x):\n",
    "    \"\"\"\n",
    "    This is where you put an optional docstring that explains what the\n",
    "    function does. For example, this function multiplies its input by 2\n",
    "    \n",
    "    \"\"\"\n",
    "    \n",
    "    return x * 2"
   ]
  },
  {
   "cell_type": "code",
   "execution_count": 3,
   "id": "overall-freeware",
   "metadata": {},
   "outputs": [
    {
     "data": {
      "text/plain": [
       "20"
      ]
     },
     "execution_count": 3,
     "metadata": {},
     "output_type": "execute_result"
    }
   ],
   "source": [
    "double(10)"
   ]
  },
  {
   "cell_type": "code",
   "execution_count": 4,
   "id": "outer-testament",
   "metadata": {},
   "outputs": [
    {
     "data": {
      "text/plain": [
       "118"
      ]
     },
     "execution_count": 4,
     "metadata": {},
     "output_type": "execute_result"
    }
   ],
   "source": [
    "double(59)"
   ]
  },
  {
   "cell_type": "markdown",
   "id": "distinguished-battle",
   "metadata": {},
   "source": [
    "Python functions are *first-class*, which means that we can assign them to variables and pass them into functions just like any other arguments:"
   ]
  },
  {
   "cell_type": "code",
   "execution_count": 8,
   "id": "confirmed-slovak",
   "metadata": {},
   "outputs": [],
   "source": [
    "def apply_to_one(f):\n",
    "    return f(1)\n",
    "\n",
    "my_double = double                       # refers to the previously defined function\n",
    "x = apply_to_one(my_double)              # equals 2"
   ]
  },
  {
   "cell_type": "code",
   "execution_count": 12,
   "id": "dated-polls",
   "metadata": {},
   "outputs": [
    {
     "data": {
      "text/plain": [
       "2"
      ]
     },
     "execution_count": 12,
     "metadata": {},
     "output_type": "execute_result"
    }
   ],
   "source": [
    "x"
   ]
  },
  {
   "cell_type": "markdown",
   "id": "aware-fetish",
   "metadata": {},
   "source": [
    "It is also easy to create short anonymous functions, or *lambdas:*"
   ]
  },
  {
   "cell_type": "code",
   "execution_count": 13,
   "id": "distant-plumbing",
   "metadata": {},
   "outputs": [],
   "source": [
    "y = apply_to_one(lambda x: 2 * x)        # Dont do this"
   ]
  },
  {
   "cell_type": "code",
   "execution_count": 14,
   "id": "supported-uganda",
   "metadata": {},
   "outputs": [
    {
     "data": {
      "text/plain": [
       "2"
      ]
     },
     "execution_count": 14,
     "metadata": {},
     "output_type": "execute_result"
    }
   ],
   "source": [
    "y"
   ]
  },
  {
   "cell_type": "code",
   "execution_count": null,
   "id": "handled-poison",
   "metadata": {},
   "outputs": [],
   "source": []
  }
 ],
 "metadata": {
  "hide_input": false,
  "kernelspec": {
   "display_name": "Python 3",
   "language": "python",
   "name": "python3"
  },
  "language_info": {
   "codemirror_mode": {
    "name": "ipython",
    "version": 3
   },
   "file_extension": ".py",
   "mimetype": "text/x-python",
   "name": "python",
   "nbconvert_exporter": "python",
   "pygments_lexer": "ipython3",
   "version": "3.9.2"
  }
 },
 "nbformat": 4,
 "nbformat_minor": 5
}

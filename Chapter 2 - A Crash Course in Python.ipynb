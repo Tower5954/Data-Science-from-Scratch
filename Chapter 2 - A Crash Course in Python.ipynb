{
 "cells": [
  {
   "cell_type": "markdown",
   "id": "employed-brazilian",
   "metadata": {},
   "source": [
    "# The Zen of Python\n",
    "\n",
    "Python has a somewhat Zen description of its design principles (https://legacy.python.org/dev/peps/pep-0020/), which you can find inside the Python interpreter by typing:"
   ]
  },
  {
   "cell_type": "code",
   "execution_count": 1,
   "id": "boring-burton",
   "metadata": {},
   "outputs": [
    {
     "name": "stdout",
     "output_type": "stream",
     "text": [
      "The Zen of Python, by Tim Peters\n",
      "\n",
      "Beautiful is better than ugly.\n",
      "Explicit is better than implicit.\n",
      "Simple is better than complex.\n",
      "Complex is better than complicated.\n",
      "Flat is better than nested.\n",
      "Sparse is better than dense.\n",
      "Readability counts.\n",
      "Special cases aren't special enough to break the rules.\n",
      "Although practicality beats purity.\n",
      "Errors should never pass silently.\n",
      "Unless explicitly silenced.\n",
      "In the face of ambiguity, refuse the temptation to guess.\n",
      "There should be one-- and preferably only one --obvious way to do it.\n",
      "Although that way may not be obvious at first unless you're Dutch.\n",
      "Now is better than never.\n",
      "Although never is often better than *right* now.\n",
      "If the implementation is hard to explain, it's a bad idea.\n",
      "If the implementation is easy to explain, it may be a good idea.\n",
      "Namespaces are one honking great idea -- let's do more of those!\n"
     ]
    }
   ],
   "source": [
    "import this"
   ]
  },
  {
   "cell_type": "markdown",
   "id": "reported-meaning",
   "metadata": {},
   "source": [
    "One of the most discussed of these is:\\\n",
    "     *There should be one-- and preferably only one --obvious way to do it.*\\\n",
    "Code written in accordance with this \"obvious\" way is often described as \"Pythonic\"."
   ]
  },
  {
   "cell_type": "markdown",
   "id": "korean-membrane",
   "metadata": {},
   "source": [
    "## Virtual Environments\n",
    "\n",
    "To create an (Anaconda) virtual environment, you must do the following:"
   ]
  },
  {
   "cell_type": "markdown",
   "id": "pretty-recording",
   "metadata": {},
   "source": [
    "To create a python 3.6 environment named \"dsfs\"\n",
    "\n",
    "conda create -n dsfs python=3.6"
   ]
  },
  {
   "cell_type": "markdown",
   "id": "legislative-vocabulary",
   "metadata": {},
   "source": [
    "Follow the prompts, and you will have a virtual environment called \"dsfs\", with the instructions:"
   ]
  },
  {
   "cell_type": "code",
   "execution_count": 2,
   "id": "solid-space",
   "metadata": {},
   "outputs": [],
   "source": [
    "#\n",
    "# To activate this environment, use\n",
    "# > source activate dsfs\n",
    "# \n",
    "# To deactivate an active environment, use\n",
    "# > source deactivate\n",
    "#"
   ]
  },
  {
   "cell_type": "markdown",
   "id": "western-december",
   "metadata": {},
   "source": [
    "As indicated, you then activate the environment using:"
   ]
  },
  {
   "cell_type": "markdown",
   "id": "wooden-talent",
   "metadata": {},
   "source": [
    " source activate dsfs"
   ]
  },
  {
   "cell_type": "markdown",
   "id": "surface-finding",
   "metadata": {},
   "source": [
    "## Functions"
   ]
  },
  {
   "cell_type": "markdown",
   "id": "elder-bacteria",
   "metadata": {},
   "source": [
    "A function is a rule for taking zero or more inputs and returning a corresponding output.\\\n",
    "In Python, we typically define a function using def:"
   ]
  },
  {
   "cell_type": "code",
   "execution_count": 3,
   "id": "potential-identification",
   "metadata": {},
   "outputs": [],
   "source": [
    "def double(x):\n",
    "    \"\"\"\n",
    "    This is where you put an optional docstring that explains what the\n",
    "    function does. For example, this function multiplies its input by 2\n",
    "    \n",
    "    \"\"\"\n",
    "    \n",
    "    return x * 2"
   ]
  },
  {
   "cell_type": "code",
   "execution_count": 4,
   "id": "overall-freeware",
   "metadata": {},
   "outputs": [
    {
     "data": {
      "text/plain": [
       "20"
      ]
     },
     "execution_count": 4,
     "metadata": {},
     "output_type": "execute_result"
    }
   ],
   "source": [
    "double(10)"
   ]
  },
  {
   "cell_type": "code",
   "execution_count": 5,
   "id": "outer-testament",
   "metadata": {},
   "outputs": [
    {
     "data": {
      "text/plain": [
       "118"
      ]
     },
     "execution_count": 5,
     "metadata": {},
     "output_type": "execute_result"
    }
   ],
   "source": [
    "double(59)"
   ]
  },
  {
   "cell_type": "markdown",
   "id": "distinguished-battle",
   "metadata": {},
   "source": [
    "Python functions are *first-class*, which means that we can assign them to variables and pass them into functions just like any other arguments:"
   ]
  },
  {
   "cell_type": "code",
   "execution_count": 6,
   "id": "confirmed-slovak",
   "metadata": {},
   "outputs": [],
   "source": [
    "def apply_to_one(f):\n",
    "    return f(1)\n",
    "\n",
    "my_double = double                       # refers to the previously defined function\n",
    "x = apply_to_one(my_double)              # equals 2"
   ]
  },
  {
   "cell_type": "code",
   "execution_count": 7,
   "id": "dated-polls",
   "metadata": {},
   "outputs": [
    {
     "data": {
      "text/plain": [
       "2"
      ]
     },
     "execution_count": 7,
     "metadata": {},
     "output_type": "execute_result"
    }
   ],
   "source": [
    "x"
   ]
  },
  {
   "cell_type": "markdown",
   "id": "aware-fetish",
   "metadata": {},
   "source": [
    "It is also easy to create short anonymous functions, or *lambdas:*"
   ]
  },
  {
   "cell_type": "code",
   "execution_count": 8,
   "id": "distant-plumbing",
   "metadata": {},
   "outputs": [],
   "source": [
    "y = apply_to_one(lambda x: 2 * x)        # Dont do this"
   ]
  },
  {
   "cell_type": "code",
   "execution_count": 9,
   "id": "supported-uganda",
   "metadata": {},
   "outputs": [
    {
     "data": {
      "text/plain": [
       "2"
      ]
     },
     "execution_count": 9,
     "metadata": {},
     "output_type": "execute_result"
    }
   ],
   "source": [
    "y"
   ]
  },
  {
   "cell_type": "code",
   "execution_count": 10,
   "id": "handled-poison",
   "metadata": {},
   "outputs": [],
   "source": [
    "def another_double(x):\n",
    "    \"\"\" Do this instead\"\"\"\n",
    "    return 2 * x"
   ]
  },
  {
   "cell_type": "code",
   "execution_count": 11,
   "id": "elementary-spectrum",
   "metadata": {},
   "outputs": [
    {
     "data": {
      "text/plain": [
       "4"
      ]
     },
     "execution_count": 11,
     "metadata": {},
     "output_type": "execute_result"
    }
   ],
   "source": [
    "another_double(2)"
   ]
  },
  {
   "cell_type": "code",
   "execution_count": 12,
   "id": "original-electric",
   "metadata": {},
   "outputs": [
    {
     "data": {
      "text/plain": [
       "48"
      ]
     },
     "execution_count": 12,
     "metadata": {},
     "output_type": "execute_result"
    }
   ],
   "source": [
    "another_double(24)"
   ]
  },
  {
   "cell_type": "markdown",
   "id": "conceptual-assault",
   "metadata": {},
   "source": [
    "Function parameters can also be given default arguments, which only need to be specified when you want a value other than the default:"
   ]
  },
  {
   "cell_type": "code",
   "execution_count": 13,
   "id": "experienced-format",
   "metadata": {},
   "outputs": [],
   "source": [
    "def my_print(message = \"my default message\"):\n",
    "    print(message)"
   ]
  },
  {
   "cell_type": "code",
   "execution_count": 14,
   "id": "regulation-career",
   "metadata": {},
   "outputs": [
    {
     "name": "stdout",
     "output_type": "stream",
     "text": [
      "hello\n"
     ]
    }
   ],
   "source": [
    "my_print(\"hello\")"
   ]
  },
  {
   "cell_type": "code",
   "execution_count": 15,
   "id": "otherwise-neighborhood",
   "metadata": {},
   "outputs": [
    {
     "name": "stdout",
     "output_type": "stream",
     "text": [
      "my default message\n"
     ]
    }
   ],
   "source": [
    "my_print()"
   ]
  },
  {
   "cell_type": "markdown",
   "id": "chief-motion",
   "metadata": {},
   "source": [
    "It is sometimes useful to specify arguments by name:"
   ]
  },
  {
   "cell_type": "code",
   "execution_count": 16,
   "id": "collaborative-clone",
   "metadata": {},
   "outputs": [],
   "source": [
    "def full_name(first = \"What's his name? \", last = \"Something\"):\n",
    "    return first + \" \" + last"
   ]
  },
  {
   "cell_type": "code",
   "execution_count": 17,
   "id": "simple-arthur",
   "metadata": {},
   "outputs": [
    {
     "data": {
      "text/plain": [
       "'Grant Thompson'"
      ]
     },
     "execution_count": 17,
     "metadata": {},
     "output_type": "execute_result"
    }
   ],
   "source": [
    "full_name(\"Grant\", \"Thompson\")"
   ]
  },
  {
   "cell_type": "code",
   "execution_count": 18,
   "id": "serious-scene",
   "metadata": {},
   "outputs": [
    {
     "data": {
      "text/plain": [
       "'Grant Something'"
      ]
     },
     "execution_count": 18,
     "metadata": {},
     "output_type": "execute_result"
    }
   ],
   "source": [
    "full_name(\"Grant\")"
   ]
  },
  {
   "cell_type": "code",
   "execution_count": 19,
   "id": "trained-halloween",
   "metadata": {},
   "outputs": [
    {
     "data": {
      "text/plain": [
       "\"What's his name?  Thompson\""
      ]
     },
     "execution_count": 19,
     "metadata": {},
     "output_type": "execute_result"
    }
   ],
   "source": [
    "full_name(last = \"Thompson\")"
   ]
  },
  {
   "cell_type": "markdown",
   "id": "subsequent-compression",
   "metadata": {},
   "source": [
    "## Exceptions\n",
    "\n",
    "When something goes wrong, Python raises an *exception.* Unhandled, exceptions will cause your programme to crash. You can handle them using `try` and `except` :"
   ]
  },
  {
   "cell_type": "code",
   "execution_count": 20,
   "id": "surprising-orientation",
   "metadata": {},
   "outputs": [
    {
     "name": "stdout",
     "output_type": "stream",
     "text": [
      "Cannot divide by zero\n"
     ]
    }
   ],
   "source": [
    "try:\n",
    "    print(0 / 0)\n",
    "except ZeroDivisionError:\n",
    "    print(\"Cannot divide by zero\")"
   ]
  },
  {
   "cell_type": "markdown",
   "id": "inappropriate-tractor",
   "metadata": {},
   "source": [
    "## Lists\n",
    "\n",
    "Probably the most fundamental data structure in Python is the `list`, which is simply an ordered collection (it is similar to what other languages may call an `array`, but with some added functionality):"
   ]
  },
  {
   "cell_type": "code",
   "execution_count": 21,
   "id": "acknowledged-spyware",
   "metadata": {},
   "outputs": [],
   "source": [
    "integer_list = [1, 2, 3]\n",
    "heterogeneous_list = [\"string\", 0.1, True]\n",
    "list_of_list = [integer_list, heterogeneous_list, []]"
   ]
  },
  {
   "cell_type": "code",
   "execution_count": 22,
   "id": "alpha-mills",
   "metadata": {},
   "outputs": [],
   "source": [
    "list_length = len(integer_list)  # Sould equal 3"
   ]
  },
  {
   "cell_type": "code",
   "execution_count": 23,
   "id": "behind-validation",
   "metadata": {},
   "outputs": [
    {
     "data": {
      "text/plain": [
       "3"
      ]
     },
     "execution_count": 23,
     "metadata": {},
     "output_type": "execute_result"
    }
   ],
   "source": [
    "list_length"
   ]
  },
  {
   "cell_type": "code",
   "execution_count": 24,
   "id": "weird-personality",
   "metadata": {},
   "outputs": [],
   "source": [
    "list_sum = sum(integer_list)  # should equal 6"
   ]
  },
  {
   "cell_type": "code",
   "execution_count": 25,
   "id": "powered-actress",
   "metadata": {},
   "outputs": [
    {
     "data": {
      "text/plain": [
       "6"
      ]
     },
     "execution_count": 25,
     "metadata": {},
     "output_type": "execute_result"
    }
   ],
   "source": [
    "list_sum"
   ]
  },
  {
   "cell_type": "code",
   "execution_count": 26,
   "id": "pacific-honey",
   "metadata": {},
   "outputs": [],
   "source": [
    "more_integers = [1, 2, 3, 4, 5]"
   ]
  },
  {
   "cell_type": "code",
   "execution_count": 27,
   "id": "protected-defense",
   "metadata": {},
   "outputs": [],
   "source": [
    "another_sum = sum(more_integers)"
   ]
  },
  {
   "cell_type": "code",
   "execution_count": 28,
   "id": "posted-rochester",
   "metadata": {},
   "outputs": [
    {
     "data": {
      "text/plain": [
       "15"
      ]
     },
     "execution_count": 28,
     "metadata": {},
     "output_type": "execute_result"
    }
   ],
   "source": [
    "another_sum"
   ]
  },
  {
   "cell_type": "markdown",
   "id": "combined-roulette",
   "metadata": {},
   "source": [
    "You can get the *n*th element of a list with square brackets:"
   ]
  },
  {
   "cell_type": "code",
   "execution_count": 29,
   "id": "applied-texas",
   "metadata": {},
   "outputs": [],
   "source": [
    "x = [0, 1, 2, 3, 4, 5, 6, 7, 8, 9]"
   ]
  },
  {
   "cell_type": "code",
   "execution_count": 30,
   "id": "bearing-professional",
   "metadata": {},
   "outputs": [],
   "source": [
    "zero = x[0]              # Equals 0, lists are 0-indexed\n",
    "one = x[1]               # Equals 1\n",
    "nine = x[-1]             # Equals 9, 'Pythonic' for last element\n",
    "eight = x[-2]            # Equals 8, 'pythonic' for next to last element \n",
    "x[0] = -1                # Now x is [-1, 1, 2, ..., 9]"
   ]
  },
  {
   "cell_type": "markdown",
   "id": "electric-institution",
   "metadata": {},
   "source": [
    "## Slicing\n",
    "\n",
    "You can also use square brackets to *slice* lists. The slice i:j means all elements from i (inclusive) to j (not inclusive). If you leave off the start of the slice, you'll slice from the beginning of the list, and if you leave off the end of the slice, you'll slice until the end of the list:"
   ]
  },
  {
   "cell_type": "code",
   "execution_count": 31,
   "id": "neural-friendly",
   "metadata": {},
   "outputs": [
    {
     "data": {
      "text/plain": [
       "[-1, 1, 2]"
      ]
     },
     "execution_count": 31,
     "metadata": {},
     "output_type": "execute_result"
    }
   ],
   "source": [
    "first_three = x[:3]\n",
    "first_three"
   ]
  },
  {
   "cell_type": "code",
   "execution_count": 32,
   "id": "bulgarian-flour",
   "metadata": {},
   "outputs": [
    {
     "data": {
      "text/plain": [
       "[3, 4, 5, 6, 7, 8, 9]"
      ]
     },
     "execution_count": 32,
     "metadata": {},
     "output_type": "execute_result"
    }
   ],
   "source": [
    "three_to_end = x[3:]\n",
    "three_to_end"
   ]
  },
  {
   "cell_type": "code",
   "execution_count": 33,
   "id": "found-parker",
   "metadata": {},
   "outputs": [
    {
     "data": {
      "text/plain": [
       "[1, 2, 3, 4]"
      ]
     },
     "execution_count": 33,
     "metadata": {},
     "output_type": "execute_result"
    }
   ],
   "source": [
    "one_to_four = x[1:5]\n",
    "one_to_four"
   ]
  },
  {
   "cell_type": "code",
   "execution_count": 34,
   "id": "choice-filling",
   "metadata": {},
   "outputs": [
    {
     "data": {
      "text/plain": [
       "[7, 8, 9]"
      ]
     },
     "execution_count": 34,
     "metadata": {},
     "output_type": "execute_result"
    }
   ],
   "source": [
    "last_three = x[-3:]\n",
    "last_three"
   ]
  },
  {
   "cell_type": "code",
   "execution_count": 35,
   "id": "subtle-amber",
   "metadata": {},
   "outputs": [
    {
     "data": {
      "text/plain": [
       "[1, 2, 3, 4, 5, 6, 7, 8]"
      ]
     },
     "execution_count": 35,
     "metadata": {},
     "output_type": "execute_result"
    }
   ],
   "source": [
    "without_first_and_last = x[1:-1]\n",
    "without_first_and_last"
   ]
  },
  {
   "cell_type": "code",
   "execution_count": 36,
   "id": "defined-olive",
   "metadata": {},
   "outputs": [
    {
     "data": {
      "text/plain": [
       "[-1, 1, 2, 3, 4, 5, 6, 7, 8, 9]"
      ]
     },
     "execution_count": 36,
     "metadata": {},
     "output_type": "execute_result"
    }
   ],
   "source": [
    "copy_of_x = x[:]\n",
    "copy_of_x"
   ]
  },
  {
   "cell_type": "markdown",
   "id": "incident-cocktail",
   "metadata": {},
   "source": [
    "You can similarily slice strings and other \"sequential\" types.\n",
    "\n",
    "A slice can take a third argument to indicate it's *stride,* which can be negative:"
   ]
  },
  {
   "cell_type": "code",
   "execution_count": 37,
   "id": "freelance-patent",
   "metadata": {},
   "outputs": [
    {
     "data": {
      "text/plain": [
       "[-1, 3, 6, 9]"
      ]
     },
     "execution_count": 37,
     "metadata": {},
     "output_type": "execute_result"
    }
   ],
   "source": [
    "every_third = x[::3]\n",
    "every_third"
   ]
  },
  {
   "cell_type": "code",
   "execution_count": 38,
   "id": "invalid-asthma",
   "metadata": {},
   "outputs": [
    {
     "data": {
      "text/plain": [
       "[5, 4, 3]"
      ]
     },
     "execution_count": 38,
     "metadata": {},
     "output_type": "execute_result"
    }
   ],
   "source": [
    "five_to_three = x[5:2:-1]\n",
    "five_to_three"
   ]
  },
  {
   "cell_type": "markdown",
   "id": "honest-charge",
   "metadata": {},
   "source": [
    "Python has an `in` operator to check for list membership:"
   ]
  },
  {
   "cell_type": "code",
   "execution_count": 39,
   "id": "collect-compound",
   "metadata": {},
   "outputs": [
    {
     "data": {
      "text/plain": [
       "True"
      ]
     },
     "execution_count": 39,
     "metadata": {},
     "output_type": "execute_result"
    }
   ],
   "source": [
    "1 in [1, 2, 3]"
   ]
  },
  {
   "cell_type": "code",
   "execution_count": 40,
   "id": "jewish-cable",
   "metadata": {},
   "outputs": [
    {
     "data": {
      "text/plain": [
       "False"
      ]
     },
     "execution_count": 40,
     "metadata": {},
     "output_type": "execute_result"
    }
   ],
   "source": [
    "0 in [1, 2, 3]"
   ]
  },
  {
   "cell_type": "markdown",
   "id": "smart-floor",
   "metadata": {},
   "source": [
    "This check involves examining the elements of the list one at a time, which means that you probably shouldn't use it unless you know your list is pretty small (or unless you don't care how long the check takes).\n",
    "\n",
    "\n",
    "It is easy to concatenate lists together. If you want to modify a list in place, you can use extend to add items from another collection:\n"
   ]
  },
  {
   "cell_type": "code",
   "execution_count": 41,
   "id": "hawaiian-helena",
   "metadata": {},
   "outputs": [
    {
     "data": {
      "text/plain": [
       "[1, 2, 3]"
      ]
     },
     "execution_count": 41,
     "metadata": {},
     "output_type": "execute_result"
    }
   ],
   "source": [
    "x = [1, 2, 3]\n",
    "x"
   ]
  },
  {
   "cell_type": "code",
   "execution_count": 42,
   "id": "drawn-rendering",
   "metadata": {},
   "outputs": [
    {
     "data": {
      "text/plain": [
       "[1, 2, 3, 4, 5, 6]"
      ]
     },
     "execution_count": 42,
     "metadata": {},
     "output_type": "execute_result"
    }
   ],
   "source": [
    "x.extend([4, 5, 6])\n",
    "x"
   ]
  },
  {
   "cell_type": "markdown",
   "id": "chemical-action",
   "metadata": {},
   "source": [
    "If you don't want to modify x, you can use list addition:"
   ]
  },
  {
   "cell_type": "code",
   "execution_count": 43,
   "id": "urban-realtor",
   "metadata": {},
   "outputs": [
    {
     "data": {
      "text/plain": [
       "[1, 2, 3]"
      ]
     },
     "execution_count": 43,
     "metadata": {},
     "output_type": "execute_result"
    }
   ],
   "source": [
    "x = [1, 2, 3]\n",
    "x"
   ]
  },
  {
   "cell_type": "code",
   "execution_count": 44,
   "id": "subtle-assurance",
   "metadata": {},
   "outputs": [
    {
     "data": {
      "text/plain": [
       "[1, 2, 3]"
      ]
     },
     "execution_count": 44,
     "metadata": {},
     "output_type": "execute_result"
    }
   ],
   "source": [
    "y = x + [4, 5, 6]\n",
    "x"
   ]
  },
  {
   "cell_type": "code",
   "execution_count": 45,
   "id": "processed-netherlands",
   "metadata": {},
   "outputs": [
    {
     "data": {
      "text/plain": [
       "[1, 2, 3, 4, 5, 6]"
      ]
     },
     "execution_count": 45,
     "metadata": {},
     "output_type": "execute_result"
    }
   ],
   "source": [
    "y"
   ]
  },
  {
   "cell_type": "markdown",
   "id": "balanced-engine",
   "metadata": {},
   "source": [
    "More frequently we will append to lists one item at a time:"
   ]
  },
  {
   "cell_type": "code",
   "execution_count": 46,
   "id": "defensive-portable",
   "metadata": {},
   "outputs": [],
   "source": [
    "x = [1, 2, 3]\n"
   ]
  },
  {
   "cell_type": "code",
   "execution_count": 47,
   "id": "general-tender",
   "metadata": {},
   "outputs": [],
   "source": [
    "x.append(0)"
   ]
  },
  {
   "cell_type": "code",
   "execution_count": 48,
   "id": "color-teddy",
   "metadata": {},
   "outputs": [
    {
     "data": {
      "text/plain": [
       "[1, 2, 3, 0]"
      ]
     },
     "execution_count": 48,
     "metadata": {},
     "output_type": "execute_result"
    }
   ],
   "source": [
    "x"
   ]
  },
  {
   "cell_type": "code",
   "execution_count": 49,
   "id": "capital-buyer",
   "metadata": {},
   "outputs": [
    {
     "data": {
      "text/plain": [
       "0"
      ]
     },
     "execution_count": 49,
     "metadata": {},
     "output_type": "execute_result"
    }
   ],
   "source": [
    "y = x[-1]\n",
    "y"
   ]
  },
  {
   "cell_type": "code",
   "execution_count": 50,
   "id": "classified-myanmar",
   "metadata": {},
   "outputs": [],
   "source": [
    "z = len(x)"
   ]
  },
  {
   "cell_type": "code",
   "execution_count": 51,
   "id": "agricultural-attribute",
   "metadata": {},
   "outputs": [
    {
     "data": {
      "text/plain": [
       "4"
      ]
     },
     "execution_count": 51,
     "metadata": {},
     "output_type": "execute_result"
    }
   ],
   "source": [
    "z"
   ]
  },
  {
   "cell_type": "markdown",
   "id": "personalized-acrobat",
   "metadata": {},
   "source": [
    "It's often convenient to *unpack* lists when you know how many elements they contain: "
   ]
  },
  {
   "cell_type": "code",
   "execution_count": 52,
   "id": "royal-front",
   "metadata": {},
   "outputs": [],
   "source": [
    "x, y = [1, 2]"
   ]
  },
  {
   "cell_type": "code",
   "execution_count": 53,
   "id": "numerous-actor",
   "metadata": {},
   "outputs": [
    {
     "data": {
      "text/plain": [
       "1"
      ]
     },
     "execution_count": 53,
     "metadata": {},
     "output_type": "execute_result"
    }
   ],
   "source": [
    "x"
   ]
  },
  {
   "cell_type": "code",
   "execution_count": 54,
   "id": "steady-teacher",
   "metadata": {},
   "outputs": [
    {
     "data": {
      "text/plain": [
       "2"
      ]
     },
     "execution_count": 54,
     "metadata": {},
     "output_type": "execute_result"
    }
   ],
   "source": [
    "y"
   ]
  },
  {
   "cell_type": "markdown",
   "id": "varying-execution",
   "metadata": {},
   "source": [
    "although you will get a **ValueError** if you don't have the same number of elements on both sides."
   ]
  },
  {
   "cell_type": "markdown",
   "id": "activated-prison",
   "metadata": {},
   "source": [
    "a common idiom is to use an underscore for a value you're going to throw away"
   ]
  },
  {
   "cell_type": "code",
   "execution_count": 55,
   "id": "wireless-employer",
   "metadata": {},
   "outputs": [],
   "source": [
    "_, y = [1, 2]   # Now y == 2 , didn't care about the first element"
   ]
  },
  {
   "cell_type": "code",
   "execution_count": 56,
   "id": "indie-delicious",
   "metadata": {},
   "outputs": [
    {
     "data": {
      "text/plain": [
       "2"
      ]
     },
     "execution_count": 56,
     "metadata": {},
     "output_type": "execute_result"
    }
   ],
   "source": [
    "y"
   ]
  },
  {
   "cell_type": "code",
   "execution_count": 57,
   "id": "expensive-offset",
   "metadata": {},
   "outputs": [
    {
     "data": {
      "text/plain": [
       "1"
      ]
     },
     "execution_count": 57,
     "metadata": {},
     "output_type": "execute_result"
    }
   ],
   "source": [
    "_"
   ]
  },
  {
   "cell_type": "code",
   "execution_count": 58,
   "id": "changing-pontiac",
   "metadata": {},
   "outputs": [
    {
     "data": {
      "text/plain": [
       "1"
      ]
     },
     "execution_count": 58,
     "metadata": {},
     "output_type": "execute_result"
    }
   ],
   "source": [
    "x = _\n",
    "x"
   ]
  },
  {
   "cell_type": "markdown",
   "id": "organic-stuff",
   "metadata": {},
   "source": [
    "## Tuples"
   ]
  },
  {
   "cell_type": "markdown",
   "id": "noble-sight",
   "metadata": {},
   "source": [
    "Tuples are lists' immutable cousins. Pretty much anything you can do to a list that **doesn't** involve modifying it, you can do to a tuple. You specify a tuple using parenthesis (or nothing) instead of square brackets:"
   ]
  },
  {
   "cell_type": "code",
   "execution_count": 59,
   "id": "violent-silly",
   "metadata": {},
   "outputs": [],
   "source": [
    "my_list = [1, 2]\n",
    "my_tuple = (1, 2)\n",
    "\n",
    "other_tuple = 3, 4\n",
    "my_list[1] = 3"
   ]
  },
  {
   "cell_type": "code",
   "execution_count": 60,
   "id": "considered-moscow",
   "metadata": {},
   "outputs": [
    {
     "data": {
      "text/plain": [
       "[1, 3]"
      ]
     },
     "execution_count": 60,
     "metadata": {},
     "output_type": "execute_result"
    }
   ],
   "source": [
    "my_list"
   ]
  },
  {
   "cell_type": "code",
   "execution_count": 61,
   "id": "conceptual-portland",
   "metadata": {},
   "outputs": [
    {
     "name": "stdout",
     "output_type": "stream",
     "text": [
      "Cannot modify a tuple\n"
     ]
    }
   ],
   "source": [
    "try:\n",
    "    my_tuple[1] = 3\n",
    "except TypeError:\n",
    "    print(\"Cannot modify a tuple\")"
   ]
  },
  {
   "cell_type": "markdown",
   "id": "equivalent-favorite",
   "metadata": {},
   "source": [
    "Tuples are a convienient way to return multiple values from functions:"
   ]
  },
  {
   "cell_type": "code",
   "execution_count": 62,
   "id": "elder-glenn",
   "metadata": {},
   "outputs": [],
   "source": [
    "def sum_and_product(x, y):\n",
    "    return ( x + y), (x * y)"
   ]
  },
  {
   "cell_type": "code",
   "execution_count": 63,
   "id": "cooperative-retro",
   "metadata": {},
   "outputs": [
    {
     "data": {
      "text/plain": [
       "(5, 6)"
      ]
     },
     "execution_count": 63,
     "metadata": {},
     "output_type": "execute_result"
    }
   ],
   "source": [
    "sp = sum_and_product(2, 3)\n",
    "sp"
   ]
  },
  {
   "cell_type": "code",
   "execution_count": 64,
   "id": "native-nickel",
   "metadata": {},
   "outputs": [],
   "source": [
    "s, p = sum_and_product(5, 10)"
   ]
  },
  {
   "cell_type": "code",
   "execution_count": 65,
   "id": "present-patch",
   "metadata": {},
   "outputs": [
    {
     "data": {
      "text/plain": [
       "15"
      ]
     },
     "execution_count": 65,
     "metadata": {},
     "output_type": "execute_result"
    }
   ],
   "source": [
    "s"
   ]
  },
  {
   "cell_type": "code",
   "execution_count": 66,
   "id": "fewer-skill",
   "metadata": {},
   "outputs": [
    {
     "data": {
      "text/plain": [
       "50"
      ]
     },
     "execution_count": 66,
     "metadata": {},
     "output_type": "execute_result"
    }
   ],
   "source": [
    "p"
   ]
  },
  {
   "cell_type": "markdown",
   "id": "raising-lesbian",
   "metadata": {},
   "source": [
    "Tuples (and lists) can also be used for *multiple assignment:*"
   ]
  },
  {
   "cell_type": "code",
   "execution_count": 68,
   "id": "exempt-compatibility",
   "metadata": {},
   "outputs": [],
   "source": [
    "x, y = 1, 2"
   ]
  },
  {
   "cell_type": "code",
   "execution_count": 72,
   "id": "curious-screen",
   "metadata": {},
   "outputs": [
    {
     "data": {
      "text/plain": [
       "1"
      ]
     },
     "execution_count": 72,
     "metadata": {},
     "output_type": "execute_result"
    }
   ],
   "source": [
    "x"
   ]
  },
  {
   "cell_type": "code",
   "execution_count": 73,
   "id": "historical-superior",
   "metadata": {},
   "outputs": [
    {
     "data": {
      "text/plain": [
       "2"
      ]
     },
     "execution_count": 73,
     "metadata": {},
     "output_type": "execute_result"
    }
   ],
   "source": [
    "y"
   ]
  },
  {
   "cell_type": "code",
   "execution_count": 74,
   "id": "regulated-engine",
   "metadata": {},
   "outputs": [],
   "source": [
    "x, y = y, x"
   ]
  },
  {
   "cell_type": "code",
   "execution_count": 75,
   "id": "pending-anderson",
   "metadata": {},
   "outputs": [
    {
     "data": {
      "text/plain": [
       "2"
      ]
     },
     "execution_count": 75,
     "metadata": {},
     "output_type": "execute_result"
    }
   ],
   "source": [
    "x"
   ]
  },
  {
   "cell_type": "code",
   "execution_count": 76,
   "id": "frank-dialogue",
   "metadata": {},
   "outputs": [
    {
     "data": {
      "text/plain": [
       "1"
      ]
     },
     "execution_count": 76,
     "metadata": {},
     "output_type": "execute_result"
    }
   ],
   "source": [
    "y"
   ]
  },
  {
   "cell_type": "markdown",
   "id": "coral-sitting",
   "metadata": {},
   "source": [
    "This is the *pythonic* way to swap variables; now x is 2, y is 1"
   ]
  },
  {
   "cell_type": "markdown",
   "id": "concrete-handling",
   "metadata": {},
   "source": [
    "## Dictionaries"
   ]
  },
  {
   "cell_type": "markdown",
   "id": "juvenile-doctrine",
   "metadata": {},
   "source": [
    "Another fundamental data structure is a dictionary, which associates **values** with **keys**, and allows you to quickly retrieve the value corresponding to a given key:"
   ]
  },
  {
   "cell_type": "code",
   "execution_count": 77,
   "id": "complex-ribbon",
   "metadata": {},
   "outputs": [],
   "source": [
    "empty_dict = {}                   # Pythonic\n",
    "empty_dict2 = dict()              # Less pythonic\n",
    "\n",
    "grades = {\"Joel\": 80, \"Tim\": 95}  # Dictionary literal "
   ]
  },
  {
   "cell_type": "markdown",
   "id": "received-translation",
   "metadata": {},
   "source": [
    "You can look up the value for a key using square brackets:"
   ]
  },
  {
   "cell_type": "code",
   "execution_count": 78,
   "id": "hawaiian-hotel",
   "metadata": {},
   "outputs": [],
   "source": [
    "joels_grades = grades[\"Joel\"]"
   ]
  },
  {
   "cell_type": "code",
   "execution_count": 79,
   "id": "industrial-performance",
   "metadata": {},
   "outputs": [
    {
     "data": {
      "text/plain": [
       "80"
      ]
     },
     "execution_count": 79,
     "metadata": {},
     "output_type": "execute_result"
    }
   ],
   "source": [
    "joels_grades"
   ]
  },
  {
   "cell_type": "markdown",
   "id": "modified-progressive",
   "metadata": {},
   "source": [
    "You can check for the existence of a key using in:"
   ]
  },
  {
   "cell_type": "code",
   "execution_count": 80,
   "id": "spread-stage",
   "metadata": {},
   "outputs": [],
   "source": [
    "joel_has_grades = \"Joel\" in grades"
   ]
  },
  {
   "cell_type": "code",
   "execution_count": 81,
   "id": "individual-behavior",
   "metadata": {},
   "outputs": [
    {
     "data": {
      "text/plain": [
       "True"
      ]
     },
     "execution_count": 81,
     "metadata": {},
     "output_type": "execute_result"
    }
   ],
   "source": [
    "joel_has_grades"
   ]
  },
  {
   "cell_type": "code",
   "execution_count": 82,
   "id": "catholic-report",
   "metadata": {},
   "outputs": [
    {
     "data": {
      "text/plain": [
       "False"
      ]
     },
     "execution_count": 82,
     "metadata": {},
     "output_type": "execute_result"
    }
   ],
   "source": [
    "katie_has_grades = \"Katie\" in grades\n",
    "katie_has_grades"
   ]
  },
  {
   "cell_type": "markdown",
   "id": "numeric-vector",
   "metadata": {},
   "source": [
    "This membership check is fast even for large dictionaries"
   ]
  },
  {
   "cell_type": "markdown",
   "id": "canadian-queen",
   "metadata": {},
   "source": [
    "Dictionaries have a `get` method that returns a default value (instead of raising an exception) when you look up a key that's not in the dictionary:"
   ]
  },
  {
   "cell_type": "code",
   "execution_count": 83,
   "id": "raised-fever",
   "metadata": {},
   "outputs": [
    {
     "data": {
      "text/plain": [
       "0"
      ]
     },
     "execution_count": 83,
     "metadata": {},
     "output_type": "execute_result"
    }
   ],
   "source": [
    "joel_grade = grades.get(\"joel\", 0)\n",
    "joel_grade"
   ]
  },
  {
   "cell_type": "code",
   "execution_count": 86,
   "id": "vertical-makeup",
   "metadata": {},
   "outputs": [
    {
     "data": {
      "text/plain": [
       "80"
      ]
     },
     "execution_count": 86,
     "metadata": {},
     "output_type": "execute_result"
    }
   ],
   "source": [
    "joel_grade = grades.get(\"Joel\", 0)\n",
    "joel_grade"
   ]
  },
  {
   "cell_type": "code",
   "execution_count": 87,
   "id": "small-guarantee",
   "metadata": {},
   "outputs": [
    {
     "data": {
      "text/plain": [
       "'Nope'"
      ]
     },
     "execution_count": 87,
     "metadata": {},
     "output_type": "execute_result"
    }
   ],
   "source": [
    "joel_grade = grades.get(\"Joe\", 'Nope')\n",
    "joel_grade"
   ]
  },
  {
   "cell_type": "markdown",
   "id": "stopped-digit",
   "metadata": {},
   "source": [
    "You can assign key/value pairs using the same square brackets:"
   ]
  },
  {
   "cell_type": "code",
   "execution_count": 88,
   "id": "dense-employee",
   "metadata": {},
   "outputs": [],
   "source": [
    "grades[\"Tim\"] = 99   # Replaces the old value\n",
    "grades[\"Kate\"] = 100 # Adds a third entry"
   ]
  },
  {
   "cell_type": "code",
   "execution_count": 89,
   "id": "steady-defense",
   "metadata": {},
   "outputs": [
    {
     "data": {
      "text/plain": [
       "{'Joel': 80, 'Tim': 99, 'Kate': 100}"
      ]
     },
     "execution_count": 89,
     "metadata": {},
     "output_type": "execute_result"
    }
   ],
   "source": [
    "grades"
   ]
  },
  {
   "cell_type": "code",
   "execution_count": 90,
   "id": "persistent-malta",
   "metadata": {},
   "outputs": [
    {
     "data": {
      "text/plain": [
       "3"
      ]
     },
     "execution_count": 90,
     "metadata": {},
     "output_type": "execute_result"
    }
   ],
   "source": [
    "no_of_students = len(grades)\n",
    "no_of_students"
   ]
  },
  {
   "cell_type": "code",
   "execution_count": null,
   "id": "recent-harvey",
   "metadata": {},
   "outputs": [],
   "source": []
  }
 ],
 "metadata": {
  "hide_input": false,
  "kernelspec": {
   "display_name": "Python 3",
   "language": "python",
   "name": "python3"
  },
  "language_info": {
   "codemirror_mode": {
    "name": "ipython",
    "version": 3
   },
   "file_extension": ".py",
   "mimetype": "text/x-python",
   "name": "python",
   "nbconvert_exporter": "python",
   "pygments_lexer": "ipython3",
   "version": "3.9.2"
  }
 },
 "nbformat": 4,
 "nbformat_minor": 5
}

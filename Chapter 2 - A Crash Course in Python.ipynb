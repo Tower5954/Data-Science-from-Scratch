{
 "cells": [
  {
   "cell_type": "markdown",
   "id": "designed-orientation",
   "metadata": {},
   "source": [
    "# The Zen of Python\n",
    "\n",
    "Python has a somewhat Zen description of its design principles (https://legacy.python.org/dev/peps/pep-0020/), which you can find inside the Python interpreter by typing:"
   ]
  },
  {
   "cell_type": "code",
   "execution_count": 1,
   "id": "durable-equipment",
   "metadata": {},
   "outputs": [
    {
     "name": "stdout",
     "output_type": "stream",
     "text": [
      "The Zen of Python, by Tim Peters\n",
      "\n",
      "Beautiful is better than ugly.\n",
      "Explicit is better than implicit.\n",
      "Simple is better than complex.\n",
      "Complex is better than complicated.\n",
      "Flat is better than nested.\n",
      "Sparse is better than dense.\n",
      "Readability counts.\n",
      "Special cases aren't special enough to break the rules.\n",
      "Although practicality beats purity.\n",
      "Errors should never pass silently.\n",
      "Unless explicitly silenced.\n",
      "In the face of ambiguity, refuse the temptation to guess.\n",
      "There should be one-- and preferably only one --obvious way to do it.\n",
      "Although that way may not be obvious at first unless you're Dutch.\n",
      "Now is better than never.\n",
      "Although never is often better than *right* now.\n",
      "If the implementation is hard to explain, it's a bad idea.\n",
      "If the implementation is easy to explain, it may be a good idea.\n",
      "Namespaces are one honking great idea -- let's do more of those!\n"
     ]
    }
   ],
   "source": [
    "import this"
   ]
  },
  {
   "cell_type": "markdown",
   "id": "worth-river",
   "metadata": {},
   "source": [
    "One of the most discussed of these is:\\\n",
    "     *There should be one-- and preferably only one --obvious way to do it.*\\\n",
    "Code written in accordance with this \"obvious\""
   ]
  },
  {
   "cell_type": "code",
   "execution_count": null,
   "id": "protecting-subscription",
   "metadata": {},
   "outputs": [],
   "source": []
  }
 ],
 "metadata": {
  "hide_input": false,
  "kernelspec": {
   "display_name": "Python 3",
   "language": "python",
   "name": "python3"
  },
  "language_info": {
   "codemirror_mode": {
    "name": "ipython",
    "version": 3
   },
   "file_extension": ".py",
   "mimetype": "text/x-python",
   "name": "python",
   "nbconvert_exporter": "python",
   "pygments_lexer": "ipython3",
   "version": "3.9.2"
  }
 },
 "nbformat": 4,
 "nbformat_minor": 5
}
